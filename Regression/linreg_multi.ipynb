{
 "cells": [
  {
   "cell_type": "code",
   "execution_count": 1,
   "id": "83c43e01-6093-4fd2-ad6d-6f572dd83b05",
   "metadata": {},
   "outputs": [],
   "source": [
    "%matplotlib widget\n",
    "\n",
    "import matplotlib.pyplot as plt\n",
    "import numpy as np\n",
    "import pandas as pd \n",
    "import operator\n",
    "from mpl_toolkits import mplot3d\n",
    "from sklearn.datasets import load_boston\n",
    "from sklearn.model_selection import train_test_split\n",
    "from sklearn.linear_model import LinearRegression\n",
    "from sklearn.metrics import mean_squared_error, r2_score"
   ]
  },
  {
   "cell_type": "code",
   "execution_count": 2,
   "id": "f0c04788-2f24-4ceb-b004-b9b8a871844c",
   "metadata": {},
   "outputs": [],
   "source": [
    "# Adjust size of plots\n",
    "plt.rcParams['figure.figsize'] = [6, 4]"
   ]
  },
  {
   "cell_type": "markdown",
   "id": "845dc6d1-e871-4564-b592-04827edee822",
   "metadata": {},
   "source": [
    "# Multivariate Regression\n",
    "\n",
    "## Notation\n",
    "\n",
    "We have a given dataset \n",
    "\n",
    "$$\n",
    "    (x,y) \\in \\mathbb{R}^{m \\times (n+1)},\n",
    "$$\n",
    "\n",
    "where $m$ is the number of samples and $n$ is the number of features.\n",
    "\n",
    "In the dateset we have the features\n",
    "\n",
    "$$\n",
    "    x \\in \\mathbb{R}^{m \\times n}\n",
    "$$\n",
    "\n",
    "and the targets \n",
    "\n",
    "$$\n",
    "    y \\in \\mathbb{R}^m.\n",
    "$$\n",
    "\n",
    "We say that \n",
    "\n",
    "$$\n",
    "    (x^{(i)}, y^{(i)}) \\in \\mathbb{R}^{1 \\times (n+1)}\n",
    "$$\n",
    "\n",
    "is the $i$-th example ($i = 1, \\dots, m$) and \n",
    "\n",
    "$$\n",
    "    x_j \\in \\mathbb{R}^m\n",
    "$$ \n",
    "\n",
    "is the $j$-th feature vector ($j = 1, \\dots, n$), such that \n",
    "\n",
    "$$\n",
    "    x^{(i)}_j \\in \\mathbb{R}  \n",
    "$$\n",
    "\n",
    "is the $j$-th feature of the $i$-th example."
   ]
  },
  {
   "cell_type": "markdown",
   "id": "54b7312e-4bc4-4baf-bab8-7f6940a4bbf6",
   "metadata": {},
   "source": [
    "## Boston dataset"
   ]
  },
  {
   "cell_type": "code",
   "execution_count": 3,
   "id": "62e5ae92-030b-4286-8f96-44e5f27ad9a7",
   "metadata": {},
   "outputs": [
    {
     "data": {
      "text/html": [
       "<div>\n",
       "<style scoped>\n",
       "    .dataframe tbody tr th:only-of-type {\n",
       "        vertical-align: middle;\n",
       "    }\n",
       "\n",
       "    .dataframe tbody tr th {\n",
       "        vertical-align: top;\n",
       "    }\n",
       "\n",
       "    .dataframe thead th {\n",
       "        text-align: right;\n",
       "    }\n",
       "</style>\n",
       "<table border=\"1\" class=\"dataframe\">\n",
       "  <thead>\n",
       "    <tr style=\"text-align: right;\">\n",
       "      <th></th>\n",
       "      <th>CRIM</th>\n",
       "      <th>ZN</th>\n",
       "      <th>INDUS</th>\n",
       "      <th>CHAS</th>\n",
       "      <th>NOX</th>\n",
       "      <th>RM</th>\n",
       "      <th>AGE</th>\n",
       "      <th>DIS</th>\n",
       "      <th>RAD</th>\n",
       "      <th>TAX</th>\n",
       "      <th>PTRATIO</th>\n",
       "      <th>B</th>\n",
       "      <th>LSTAT</th>\n",
       "      <th>Target</th>\n",
       "    </tr>\n",
       "  </thead>\n",
       "  <tbody>\n",
       "    <tr>\n",
       "      <th>501</th>\n",
       "      <td>0.06263</td>\n",
       "      <td>0.0</td>\n",
       "      <td>11.93</td>\n",
       "      <td>0.0</td>\n",
       "      <td>0.573</td>\n",
       "      <td>6.593</td>\n",
       "      <td>69.1</td>\n",
       "      <td>2.4786</td>\n",
       "      <td>1.0</td>\n",
       "      <td>273.0</td>\n",
       "      <td>21.0</td>\n",
       "      <td>391.99</td>\n",
       "      <td>9.67</td>\n",
       "      <td>22.4</td>\n",
       "    </tr>\n",
       "    <tr>\n",
       "      <th>502</th>\n",
       "      <td>0.04527</td>\n",
       "      <td>0.0</td>\n",
       "      <td>11.93</td>\n",
       "      <td>0.0</td>\n",
       "      <td>0.573</td>\n",
       "      <td>6.120</td>\n",
       "      <td>76.7</td>\n",
       "      <td>2.2875</td>\n",
       "      <td>1.0</td>\n",
       "      <td>273.0</td>\n",
       "      <td>21.0</td>\n",
       "      <td>396.90</td>\n",
       "      <td>9.08</td>\n",
       "      <td>20.6</td>\n",
       "    </tr>\n",
       "    <tr>\n",
       "      <th>503</th>\n",
       "      <td>0.06076</td>\n",
       "      <td>0.0</td>\n",
       "      <td>11.93</td>\n",
       "      <td>0.0</td>\n",
       "      <td>0.573</td>\n",
       "      <td>6.976</td>\n",
       "      <td>91.0</td>\n",
       "      <td>2.1675</td>\n",
       "      <td>1.0</td>\n",
       "      <td>273.0</td>\n",
       "      <td>21.0</td>\n",
       "      <td>396.90</td>\n",
       "      <td>5.64</td>\n",
       "      <td>23.9</td>\n",
       "    </tr>\n",
       "    <tr>\n",
       "      <th>504</th>\n",
       "      <td>0.10959</td>\n",
       "      <td>0.0</td>\n",
       "      <td>11.93</td>\n",
       "      <td>0.0</td>\n",
       "      <td>0.573</td>\n",
       "      <td>6.794</td>\n",
       "      <td>89.3</td>\n",
       "      <td>2.3889</td>\n",
       "      <td>1.0</td>\n",
       "      <td>273.0</td>\n",
       "      <td>21.0</td>\n",
       "      <td>393.45</td>\n",
       "      <td>6.48</td>\n",
       "      <td>22.0</td>\n",
       "    </tr>\n",
       "    <tr>\n",
       "      <th>505</th>\n",
       "      <td>0.04741</td>\n",
       "      <td>0.0</td>\n",
       "      <td>11.93</td>\n",
       "      <td>0.0</td>\n",
       "      <td>0.573</td>\n",
       "      <td>6.030</td>\n",
       "      <td>80.8</td>\n",
       "      <td>2.5050</td>\n",
       "      <td>1.0</td>\n",
       "      <td>273.0</td>\n",
       "      <td>21.0</td>\n",
       "      <td>396.90</td>\n",
       "      <td>7.88</td>\n",
       "      <td>11.9</td>\n",
       "    </tr>\n",
       "  </tbody>\n",
       "</table>\n",
       "</div>"
      ],
      "text/plain": [
       "        CRIM   ZN  INDUS  CHAS    NOX     RM   AGE     DIS  RAD    TAX  \\\n",
       "501  0.06263  0.0  11.93   0.0  0.573  6.593  69.1  2.4786  1.0  273.0   \n",
       "502  0.04527  0.0  11.93   0.0  0.573  6.120  76.7  2.2875  1.0  273.0   \n",
       "503  0.06076  0.0  11.93   0.0  0.573  6.976  91.0  2.1675  1.0  273.0   \n",
       "504  0.10959  0.0  11.93   0.0  0.573  6.794  89.3  2.3889  1.0  273.0   \n",
       "505  0.04741  0.0  11.93   0.0  0.573  6.030  80.8  2.5050  1.0  273.0   \n",
       "\n",
       "     PTRATIO       B  LSTAT  Target  \n",
       "501     21.0  391.99   9.67    22.4  \n",
       "502     21.0  396.90   9.08    20.6  \n",
       "503     21.0  396.90   5.64    23.9  \n",
       "504     21.0  393.45   6.48    22.0  \n",
       "505     21.0  396.90   7.88    11.9  "
      ]
     },
     "execution_count": 3,
     "metadata": {},
     "output_type": "execute_result"
    }
   ],
   "source": [
    "# Load dataset\n",
    "data = load_boston()\n",
    "\n",
    "# Create dataframe\n",
    "df = pd.DataFrame(data.data, columns=data.feature_names)\n",
    "df['Target'] = data.target\n",
    "df.tail()"
   ]
  },
  {
   "cell_type": "code",
   "execution_count": 4,
   "id": "45b4bb4f-4889-4a63-bc09-b9859ba80af0",
   "metadata": {},
   "outputs": [
    {
     "data": {
      "application/vnd.jupyter.widget-view+json": {
       "model_id": "ba1c35782058401f9bb1d6b4f47eb073",
       "version_major": 2,
       "version_minor": 0
      },
      "text/plain": [
       "Canvas(toolbar=Toolbar(toolitems=[('Home', 'Reset original view', 'home', 'home'), ('Back', 'Back to previous …"
      ]
     },
     "metadata": {},
     "output_type": "display_data"
    },
    {
     "data": {
      "text/plain": [
       "<mpl_toolkits.mplot3d.art3d.Path3DCollection at 0x7fbb334fcfd0>"
      ]
     },
     "execution_count": 4,
     "metadata": {},
     "output_type": "execute_result"
    }
   ],
   "source": [
    "# Define feature index\n",
    "feat_idx = [12, 10]\n",
    "\n",
    "# Split data table into data X and class labels y\n",
    "X = df.iloc[:, feat_idx].values\n",
    "y = df.iloc[:, -1].values\n",
    "\n",
    "# Set names of labels for plot\n",
    "xlabel = df.columns[feat_idx[0]]\n",
    "ylabel = df.columns[feat_idx[1]]\n",
    "zlabel = df.columns[-1]\n",
    "\n",
    "# Plot data\n",
    "fig = plt.figure(figsize=(6, 4))\n",
    "ax = plt.axes(projection ='3d', xlabel=xlabel, ylabel=ylabel, zlabel=zlabel)\n",
    "ax.scatter(X[:, 0], X[:, 1], y)"
   ]
  },
  {
   "cell_type": "code",
   "execution_count": 5,
   "id": "3ea02bcb-b6d3-45dc-a7da-a724b356f96d",
   "metadata": {},
   "outputs": [
    {
     "data": {
      "text/plain": [
       "((354, 2), (152, 2), (354,), (152,))"
      ]
     },
     "execution_count": 5,
     "metadata": {},
     "output_type": "execute_result"
    }
   ],
   "source": [
    "# Split data in training and test set\n",
    "X_train, X_test, y_train, y_test = train_test_split(\n",
    "    X, y, test_size = 0.3, shuffle=False)\n",
    "X_train.shape, X_test.shape, y_train.shape, y_test.shape"
   ]
  },
  {
   "cell_type": "markdown",
   "id": "e0687393-602d-4389-96a6-a5a60611e549",
   "metadata": {},
   "source": [
    "## Custom Implementation\n",
    "\n",
    "### Hypothesis\n",
    "\n",
    "The hypothesis is given by\n",
    "\n",
    "$$\n",
    "    h_{w, b}(x) = \\sum_{j=1}^n w_j x_j + b = w_1 x_1 + w_2 x_2 + \\dots + w_n x_n + b, \n",
    "$$\n",
    "\n",
    "where $w_1, w_2, \\dots, w_n \\in \\mathbb{R}^n$, with $n$ the number of features, are the weights and $b \\in \\mathbb{R}$ is the bias.\n",
    "\n",
    "We can also write\n",
    "\n",
    "$$\n",
    "    h_{w}(x) = \\sum_{j=0}^n w_j x_j = w_0 + w_1 x_1 + w_2 x_2 + \\dots + w_n x_n, \n",
    "$$\n",
    "\n",
    "if we set $w_0 := b$ and $x_0 := 1$.\n"
   ]
  },
  {
   "cell_type": "code",
   "execution_count": 6,
   "id": "72f3b263-7e89-4f98-a4a2-fb117f354221",
   "metadata": {},
   "outputs": [],
   "source": [
    "# Compute the hypothesis and return as shape (n_samples,)\n",
    "hypo = lambda X, w, b: np.sum(w * X, axis=1) + b"
   ]
  },
  {
   "cell_type": "markdown",
   "id": "291bdb80-e736-4543-9db9-9a15e1f9ea24",
   "metadata": {},
   "source": [
    "### Cost function\n",
    "\n",
    "The Mean Squared Error is given by\n",
    "\n",
    "$$\n",
    "\\begin{align*}\n",
    "    MSE(w,b) &= \\frac{1}{m} \\sum\\limits_{i=1}^m (y^{(i)} - h_{w, b}(x^{(i)}))^2\\\\\n",
    "             &= \\frac{1}{m} \\sum\\limits_{i=1}^m (y^{(i)} - \\sum_{j=1}^n w_j x_j^{(i)} + b)^2,\n",
    "\\end{align*}\n",
    "$$\n",
    "\n",
    "where $m$ is the number of samples and $n$ is the number of features."
   ]
  },
  {
   "cell_type": "code",
   "execution_count": 7,
   "id": "d134e63c-3b0c-4e90-92d7-2b3c159941bd",
   "metadata": {},
   "outputs": [],
   "source": [
    "# Compute the cost function (mean squared error)\n",
    "mse = lambda X, y, w, b: np.mean(np.square(y - hypo(X, w, b)))"
   ]
  },
  {
   "cell_type": "markdown",
   "id": "0026e9c9-61e9-4ac2-ba15-2e2971cbe4c9",
   "metadata": {},
   "source": [
    "### Gradient Descent\n",
    "\n",
    "#### Goal: \n",
    "\n",
    "$$\n",
    "    \\underset{w \\in \\mathbb{R}, ~ b \\in \\mathbb{R}}{\\textbf{minimize}} MSE(w,b)\n",
    "$$\n",
    "\n",
    "#### Idea: \n",
    "\n",
    "$$\n",
    "\\begin{align*}\n",
    "    w &= w - \\alpha \\cdot \\frac{\\partial}{\\partial w} MSE(w,b) \\\\\n",
    "    b &= b - \\alpha \\cdot \\frac{\\partial}{\\partial b} MSE(w,b)\n",
    "\\end{align*}\n",
    "$$\n",
    "\n",
    "#### Partial derivaties:\n",
    "\n",
    "$$\n",
    "\\begin{align*}\n",
    "    \\frac{\\partial}{\\partial w} MSE(w,b) &= \\frac{2}{m} \\sum\\limits_{i=1}^m x^{(i)} (y^{(i)} - h_{w,b}(x^{(i)})) \\\\\n",
    "    \\frac{\\partial}{\\partial b} MSE(w,b) &= \\frac{2}{m} \\sum\\limits_{i=1}^m y^{(i)} - h_{w,b}(x^{(i)})\n",
    "\\end{align*}\n",
    "$$"
   ]
  },
  {
   "cell_type": "code",
   "execution_count": 8,
   "id": "5d9efbbc-cf5c-4cb0-9972-7c8a55886e5a",
   "metadata": {},
   "outputs": [],
   "source": [
    "def gradient_descent(X, y, w, b, alpha, num_iters):  \n",
    "    \"\"\"Simple gradient descent.\n",
    "    \n",
    "    TODO: Plot.\n",
    "    \n",
    "    Parameter\n",
    "    ---------\n",
    "        X : ndarray of shpae (n_samples, n_features)\n",
    "            Input data.\n",
    "        y : ndarray of shape (n_samples,)\n",
    "            Labels.\n",
    "        w : float\n",
    "            Weight.\n",
    "        b : float\n",
    "            Bias.\n",
    "    \n",
    "    Return\n",
    "    ------\n",
    "        w : float\n",
    "            Updated weight.\n",
    "        b : float\n",
    "            Updated bias.\n",
    "    \"\"\"\n",
    "    # Number of samples\n",
    "    m = len(X)\n",
    "    \n",
    "    # Iteratively update the weight and bias\n",
    "    for i in range(0, num_iters):\n",
    "        \n",
    "        # Compute predictions (for all samples)\n",
    "        predictions = hypo(X, w, b)\n",
    "        \n",
    "        # Compute residuals (for all samples)\n",
    "        residuals = predictions - y\n",
    "        \n",
    "        # Compute partial derivitaves \n",
    "        w_gradient = np.mean(residuals.reshape(-1, 1) * X, axis=0)\n",
    "        b_gradient = np.mean(residuals)\n",
    "\n",
    "        # Update weigths and bias\n",
    "        w = w - alpha * w_gradient\n",
    "        b = b - alpha * b_gradient\n",
    "        \n",
    "    return w, b\n"
   ]
  },
  {
   "cell_type": "code",
   "execution_count": 9,
   "id": "d9c7e16b-827f-408f-8bf5-b28f557c5c91",
   "metadata": {},
   "outputs": [
    {
     "data": {
      "text/plain": [
       "(array([-0.86588896, -0.5179788 ]), 43.02261477799343)"
      ]
     },
     "execution_count": 9,
     "metadata": {},
     "output_type": "execute_result"
    }
   ],
   "source": [
    "# Initialize weights and bias\n",
    "w = np.zeros(X_train.shape[1])\n",
    "b = 0.0\n",
    "\n",
    "# Set number of iterations and stepsize alpha\n",
    "num_iters, alpha = 100000, 0.001\n",
    "\n",
    "# Run gradient descent\n",
    "w, b = gradient_descent(X_train, y_train, w, b, alpha,\n",
    "                        num_iters) \n",
    "w, b"
   ]
  },
  {
   "cell_type": "code",
   "execution_count": 10,
   "id": "2db4bd24-c20e-410c-93cf-c2f5e9577b41",
   "metadata": {},
   "outputs": [],
   "source": [
    "def plot(X, y, w, b):\n",
    "    \n",
    "    # Plot data\n",
    "    fig = plt.figure(figsize=(6, 4))\n",
    "    ax = plt.axes(projection ='3d', xlabel=xlabel, ylabel=ylabel, zlabel=zlabel)\n",
    "    ax.scatter(X[:, 0], X[:, 1], y)\n",
    "\n",
    "    # # Add predictions\n",
    "    # ax.scatter(X_train[:, 0], X_train[:, 1], , color='r')\n",
    "\n",
    "    # Add regression plane by creating a meshgrid and make predictions\n",
    "    # on every meshgrid point\n",
    "    stepsize = 2\n",
    "    x_min, x_max = min(X[:, 0]), max(X[:, 0])\n",
    "    y_min, y_max = min(X[:, 1]), max(X[:, 1])\n",
    "    xx = np.linspace(x_min, x_max, stepsize)\n",
    "    yy = np.linspace(y_min, y_max, stepsize)\n",
    "    xx, yy = np.meshgrid(xx, yy)\n",
    "    zz = hypo(np.stack((xx.ravel(), yy.ravel()), axis=1), w, b)\n",
    "    ax.plot_surface(xx, yy, zz.reshape(xx.shape), color='r', alpha=.3)"
   ]
  },
  {
   "cell_type": "code",
   "execution_count": 11,
   "id": "bae568a4-6743-48fb-92d7-deda202ba216",
   "metadata": {},
   "outputs": [
    {
     "data": {
      "application/vnd.jupyter.widget-view+json": {
       "model_id": "a9fe996e2ec64f42a7c046c5054f5d10",
       "version_major": 2,
       "version_minor": 0
      },
      "text/plain": [
       "Canvas(toolbar=Toolbar(toolitems=[('Home', 'Reset original view', 'home', 'home'), ('Back', 'Back to previous …"
      ]
     },
     "metadata": {},
     "output_type": "display_data"
    }
   ],
   "source": [
    "# Plot training data and regression plane\n",
    "plot(X_train, y_train, w, b)"
   ]
  },
  {
   "cell_type": "code",
   "execution_count": 12,
   "id": "cef75035-bc80-4780-aca6-0053904703f6",
   "metadata": {},
   "outputs": [
    {
     "data": {
      "text/plain": [
       "34.69862921547744"
      ]
     },
     "execution_count": 12,
     "metadata": {},
     "output_type": "execute_result"
    }
   ],
   "source": [
    "# Compute training MSE\n",
    "mse(X_train, y_train, w, b)"
   ]
  },
  {
   "cell_type": "code",
   "execution_count": 13,
   "id": "a94009dc-6803-4167-9572-59a9d52e7284",
   "metadata": {},
   "outputs": [
    {
     "data": {
      "application/vnd.jupyter.widget-view+json": {
       "model_id": "1cf73420fa544c2e9f02fd378f8021ef",
       "version_major": 2,
       "version_minor": 0
      },
      "text/plain": [
       "Canvas(toolbar=Toolbar(toolitems=[('Home', 'Reset original view', 'home', 'home'), ('Back', 'Back to previous …"
      ]
     },
     "metadata": {},
     "output_type": "display_data"
    }
   ],
   "source": [
    "# Plot test data and regression plane\n",
    "plot(X_test, y_test, w, b)"
   ]
  },
  {
   "cell_type": "code",
   "execution_count": 14,
   "id": "12433250-25da-432a-a3be-0d4d32fda238",
   "metadata": {},
   "outputs": [
    {
     "data": {
      "text/plain": [
       "35.11147826004231"
      ]
     },
     "execution_count": 14,
     "metadata": {},
     "output_type": "execute_result"
    }
   ],
   "source": [
    "# Compute test MSE\n",
    "mse(X_test, y_test, w, b)"
   ]
  },
  {
   "cell_type": "markdown",
   "id": "962bdc26-9dd9-47d1-a5f7-3290a1907a62",
   "metadata": {},
   "source": [
    "### $R^2$ score\n",
    "\n",
    "The residual sum of squares is defined by\n",
    "\n",
    "$$\n",
    "    SS_{res} = \\sum_{i=1}^m (y^{(i)} - h_{w,b}(x^{(i)}))^2.\n",
    "$$\n",
    "\n",
    "The total sum of squares is defined by\n",
    "\n",
    "$$\n",
    "    SS_{res} = \\sum_{i=1}^m (y^{(i)} - \\frac{1}{n} \\sum_{i=1}^n y^{(i)})^2.\n",
    "$$\n",
    "\n",
    "The $R^2$ score (or coefficient of determenation) is then defined by\n",
    "\n",
    "$$\n",
    "    R^2 = 1 - {SS_{\\rm res}\\over SS_{\\rm tot}}.\n",
    "$$"
   ]
  },
  {
   "cell_type": "code",
   "execution_count": 15,
   "id": "b9cbe993-5cda-4a01-8f59-49f8d548d2e8",
   "metadata": {},
   "outputs": [],
   "source": [
    "# Function for residual sum of squares\n",
    "ss_res = lambda X, y, w, b: np.sum(np.square(y - hypo(X, w, b)))\n",
    "\n",
    "# Function for total sum of squares\n",
    "ss_tot = lambda y: np.sum(np.square(y - np.mean(y)))\n",
    "\n",
    "# Function for coefficient of determination aka R^2\n",
    "r2 = lambda X, y, w, b: 1 - ss_res(X, y, w, b) / ss_tot(y)"
   ]
  },
  {
   "cell_type": "code",
   "execution_count": 16,
   "id": "7525573e-7b96-488d-b436-973a5c5f775d",
   "metadata": {},
   "outputs": [
    {
     "data": {
      "text/plain": [
       "0.5111988633439439"
      ]
     },
     "execution_count": 16,
     "metadata": {},
     "output_type": "execute_result"
    }
   ],
   "source": [
    "# Compute training R2\n",
    "r2(X_train, y_train, w, b)"
   ]
  },
  {
   "cell_type": "code",
   "execution_count": 17,
   "id": "78027857-76f2-416a-b388-e09dcde22a77",
   "metadata": {},
   "outputs": [
    {
     "data": {
      "text/plain": [
       "0.4707844625878962"
      ]
     },
     "execution_count": 17,
     "metadata": {},
     "output_type": "execute_result"
    }
   ],
   "source": [
    "# Compute test R2\n",
    "r2(X_test, y_test, w, b)"
   ]
  },
  {
   "cell_type": "markdown",
   "id": "e9f32ea2-5d20-4e27-95aa-53b5b6b67ae7",
   "metadata": {},
   "source": [
    "## Scikit-learn"
   ]
  },
  {
   "cell_type": "code",
   "execution_count": 18,
   "id": "6b38678e-f28c-4e3b-9e70-c2128cc3a97b",
   "metadata": {},
   "outputs": [
    {
     "data": {
      "text/plain": [
       "(array([-0.86689097, -1.20571028]), 55.39731766394296)"
      ]
     },
     "execution_count": 18,
     "metadata": {},
     "output_type": "execute_result"
    }
   ],
   "source": [
    "# Define linear regression model (wraps least-squares from SciPy)\n",
    "reg = LinearRegression()\n",
    "\n",
    "# Train model\n",
    "reg.fit(X_train, y_train)\n",
    "\n",
    "# Show weight and bias\n",
    "reg.coef_, reg.intercept_"
   ]
  },
  {
   "cell_type": "code",
   "execution_count": 19,
   "id": "509d889e-ee2c-43cf-a9fc-ee895436a457",
   "metadata": {},
   "outputs": [
    {
     "data": {
      "text/plain": [
       "(32.39915613408146, 0.5435916431542485)"
      ]
     },
     "execution_count": 19,
     "metadata": {},
     "output_type": "execute_result"
    }
   ],
   "source": [
    "# Make training predictions\n",
    "y_pred = reg.predict(X_train)\n",
    "\n",
    "# Compute training MSE and R2\n",
    "mean_squared_error(y_train, y_pred), r2_score(y_train, y_pred)"
   ]
  },
  {
   "cell_type": "code",
   "execution_count": 20,
   "id": "b2661817-4115-4bd6-80e5-68eeba25150a",
   "metadata": {},
   "outputs": [
    {
     "data": {
      "text/plain": [
       "(36.04305587072861, 0.45674331791636913)"
      ]
     },
     "execution_count": 20,
     "metadata": {},
     "output_type": "execute_result"
    }
   ],
   "source": [
    "# Make test predictions\n",
    "y_pred = reg.predict(X_test)\n",
    "\n",
    "# Compute test MSE and R2\n",
    "mean_squared_error(y_test, y_pred), r2_score(y_test, y_pred)"
   ]
  },
  {
   "cell_type": "code",
   "execution_count": null,
   "id": "1771da02-7f3d-45a5-b7ff-0a7d53903213",
   "metadata": {},
   "outputs": [],
   "source": []
  }
 ],
 "metadata": {
  "kernelspec": {
   "display_name": "Python 3 (ipykernel)",
   "language": "python",
   "name": "python3"
  },
  "language_info": {
   "codemirror_mode": {
    "name": "ipython",
    "version": 3
   },
   "file_extension": ".py",
   "mimetype": "text/x-python",
   "name": "python",
   "nbconvert_exporter": "python",
   "pygments_lexer": "ipython3",
   "version": "3.8.10"
  }
 },
 "nbformat": 4,
 "nbformat_minor": 5
}
