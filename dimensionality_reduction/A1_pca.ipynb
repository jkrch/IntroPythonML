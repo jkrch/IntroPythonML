{
 "cells": [
  {
   "cell_type": "code",
   "execution_count": 1,
   "id": "4fedecac-a34a-417a-9eef-2a19930a7703",
   "metadata": {},
   "outputs": [],
   "source": [
    "%matplotlib inline\n",
    "\n",
    "import matplotlib.pyplot as plt\n",
    "import numpy as np\n",
    "import pandas as pd\n",
    "from sklearn.datasets import load_iris\n",
    "from sklearn.model_selection import train_test_split, GridSearchCV\n",
    "from sklearn.preprocessing import StandardScaler\n",
    "from sklearn.decomposition import PCA\n",
    "from sklearn.metrics import accuracy_score"
   ]
  },
  {
   "cell_type": "markdown",
   "id": "080b8c8d-9587-4fd7-a572-e3f7d3b86137",
   "metadata": {},
   "source": [
    "# Dimensionality Reduction\n",
    "\n",
    "From a given dataset we have the features \n",
    "\n",
    "$$\n",
    "    x \\in \\mathbb{R}^{m \\times n},\n",
    "$$\n",
    "\n",
    "where $m$ is the number of samples and $n$ is the number of features. \n",
    "\n",
    "Then we want to reduce the number of features $n$, such that\n",
    "\n",
    "$$\n",
    "    x \\in \\mathbb{R}^{m \\times k},\n",
    "$$\n",
    "\n",
    "where $k < n$ (or even $k \\ll n$)."
   ]
  },
  {
   "cell_type": "markdown",
   "id": "1c89c23c-c5db-46cd-a776-163b1d85ed89",
   "metadata": {},
   "source": [
    "## Iris dataset"
   ]
  },
  {
   "cell_type": "code",
   "execution_count": 2,
   "id": "e04213f8-6d35-4ea7-b921-df69e0641589",
   "metadata": {},
   "outputs": [],
   "source": [
    "# Load iris dataset\n",
    "data = load_iris()\n",
    "\n",
    "# Print dataset info\n",
    "#print(data.DESCR)"
   ]
  },
  {
   "cell_type": "code",
   "execution_count": 3,
   "id": "95d6e5ef-5fb8-4c2a-b115-7458f068a356",
   "metadata": {},
   "outputs": [
    {
     "data": {
      "text/html": [
       "<div>\n",
       "<style scoped>\n",
       "    .dataframe tbody tr th:only-of-type {\n",
       "        vertical-align: middle;\n",
       "    }\n",
       "\n",
       "    .dataframe tbody tr th {\n",
       "        vertical-align: top;\n",
       "    }\n",
       "\n",
       "    .dataframe thead th {\n",
       "        text-align: right;\n",
       "    }\n",
       "</style>\n",
       "<table border=\"1\" class=\"dataframe\">\n",
       "  <thead>\n",
       "    <tr style=\"text-align: right;\">\n",
       "      <th></th>\n",
       "      <th>sepal length (cm)</th>\n",
       "      <th>sepal width (cm)</th>\n",
       "      <th>petal length (cm)</th>\n",
       "      <th>petal width (cm)</th>\n",
       "      <th>Class</th>\n",
       "    </tr>\n",
       "  </thead>\n",
       "  <tbody>\n",
       "    <tr>\n",
       "      <th>145</th>\n",
       "      <td>6.7</td>\n",
       "      <td>3.0</td>\n",
       "      <td>5.2</td>\n",
       "      <td>2.3</td>\n",
       "      <td>2</td>\n",
       "    </tr>\n",
       "    <tr>\n",
       "      <th>146</th>\n",
       "      <td>6.3</td>\n",
       "      <td>2.5</td>\n",
       "      <td>5.0</td>\n",
       "      <td>1.9</td>\n",
       "      <td>2</td>\n",
       "    </tr>\n",
       "    <tr>\n",
       "      <th>147</th>\n",
       "      <td>6.5</td>\n",
       "      <td>3.0</td>\n",
       "      <td>5.2</td>\n",
       "      <td>2.0</td>\n",
       "      <td>2</td>\n",
       "    </tr>\n",
       "    <tr>\n",
       "      <th>148</th>\n",
       "      <td>6.2</td>\n",
       "      <td>3.4</td>\n",
       "      <td>5.4</td>\n",
       "      <td>2.3</td>\n",
       "      <td>2</td>\n",
       "    </tr>\n",
       "    <tr>\n",
       "      <th>149</th>\n",
       "      <td>5.9</td>\n",
       "      <td>3.0</td>\n",
       "      <td>5.1</td>\n",
       "      <td>1.8</td>\n",
       "      <td>2</td>\n",
       "    </tr>\n",
       "  </tbody>\n",
       "</table>\n",
       "</div>"
      ],
      "text/plain": [
       "     sepal length (cm)  sepal width (cm)  petal length (cm)  petal width (cm)  \\\n",
       "145                6.7               3.0                5.2               2.3   \n",
       "146                6.3               2.5                5.0               1.9   \n",
       "147                6.5               3.0                5.2               2.0   \n",
       "148                6.2               3.4                5.4               2.3   \n",
       "149                5.9               3.0                5.1               1.8   \n",
       "\n",
       "     Class  \n",
       "145      2  \n",
       "146      2  \n",
       "147      2  \n",
       "148      2  \n",
       "149      2  "
      ]
     },
     "execution_count": 3,
     "metadata": {},
     "output_type": "execute_result"
    }
   ],
   "source": [
    "# Create dataframe\n",
    "df = pd.DataFrame(data.data)\n",
    "df.columns = data.feature_names\n",
    "df['Class'] = data.target\n",
    "df.tail()"
   ]
  },
  {
   "cell_type": "code",
   "execution_count": 4,
   "id": "6eb27e91-b90e-4a5c-8232-25917c4dcd61",
   "metadata": {},
   "outputs": [
    {
     "data": {
      "text/plain": [
       "((150, 4), (150,))"
      ]
     },
     "execution_count": 4,
     "metadata": {},
     "output_type": "execute_result"
    }
   ],
   "source": [
    "# Split data table into data X and class labels y\n",
    "X = df.iloc[:,:-1].values\n",
    "y = df.iloc[:,-1].values\n",
    "X.shape, y.shape"
   ]
  },
  {
   "cell_type": "code",
   "execution_count": 5,
   "id": "d89b47e7-561b-4827-bdea-72acfafb6089",
   "metadata": {},
   "outputs": [
    {
     "data": {
      "text/plain": [
       "((105, 4), (45, 4), (105,), (45,))"
      ]
     },
     "execution_count": 5,
     "metadata": {},
     "output_type": "execute_result"
    }
   ],
   "source": [
    "# Split data in training and test set\n",
    "X_train, X_test, y_train, y_test = train_test_split(\n",
    "    X, y, test_size = 0.3, shuffle=True, random_state=0)\n",
    "X_train.shape, X_test.shape, y_train.shape, y_test.shape "
   ]
  },
  {
   "cell_type": "code",
   "execution_count": 6,
   "id": "7ed31b81-c836-4387-b0b1-1c93ad0dadb4",
   "metadata": {},
   "outputs": [
    {
     "data": {
      "text/plain": [
       "((3.6795963101862333e-16, 0.9999999999999999),\n",
       " (-0.08700211457774676, 0.9071408118354307))"
      ]
     },
     "execution_count": 6,
     "metadata": {},
     "output_type": "execute_result"
    }
   ],
   "source": [
    "# Standardize data\n",
    "scaler = StandardScaler().fit(X_train)\n",
    "X_train_std = scaler.transform(X_train)\n",
    "X_test_std = scaler.transform(X_test)\n",
    "(X_train_std.mean(), X_train_std.std()), (X_test_std.mean(), X_test_std.std()) "
   ]
  },
  {
   "cell_type": "markdown",
   "id": "c49bbb4a-9cfb-4506-8397-fe7b6443f9fa",
   "metadata": {},
   "source": [
    "## Principal Component Analysis\n",
    "\n",
    "### Idea\n",
    "\n",
    "Reduce dimensionality by mapping the data $X$ from the $n$ dimensional feature space to a $k$ dimensional subspace.\n",
    "\n",
    "To keep as most information as possible\n",
    "\n",
    "\n"
   ]
  },
  {
   "cell_type": "code",
   "execution_count": 7,
   "id": "8e171508-1adf-404e-9a48-488faeeec6ce",
   "metadata": {},
   "outputs": [
    {
     "data": {
      "text/plain": [
       "array([[ 1.00961538, -0.03658858,  0.89282533,  0.84057159],\n",
       "       [-0.03658858,  1.00961538, -0.3421826 , -0.2898399 ],\n",
       "       [ 0.89282533, -0.3421826 ,  1.00961538,  0.9779029 ],\n",
       "       [ 0.84057159, -0.2898399 ,  0.9779029 ,  1.00961538]])"
      ]
     },
     "execution_count": 7,
     "metadata": {},
     "output_type": "execute_result"
    }
   ],
   "source": [
    "# Compute the covariance matrix\n",
    "cov = np.cov(X_train_std.T)\n",
    "cov"
   ]
  },
  {
   "cell_type": "code",
   "execution_count": 8,
   "id": "b2b285c0-e44f-4086-91f6-58909b609acf",
   "metadata": {},
   "outputs": [
    {
     "data": {
      "text/plain": [
       "array([[ 1.        , -0.03624011,  0.88432223,  0.83256615],\n",
       "       [-0.03624011,  1.        , -0.33892372, -0.28707952],\n",
       "       [ 0.88432223, -0.33892372,  1.        ,  0.96858954],\n",
       "       [ 0.83256615, -0.28707952,  0.96858954,  1.        ]])"
      ]
     },
     "execution_count": 8,
     "metadata": {},
     "output_type": "execute_result"
    }
   ],
   "source": [
    "# Compute the correlation matrix\n",
    "np.corrcoef(X_train.T)"
   ]
  },
  {
   "cell_type": "code",
   "execution_count": 9,
   "id": "0bf0f2e7-dd4b-4b16-bca6-7d824c767f69",
   "metadata": {},
   "outputs": [
    {
     "data": {
      "text/plain": [
       "(array([2.8998938 , 0.98708902, 0.13466453, 0.01681419]),\n",
       " array([[ 5.35470073e-01, -3.25785192e-01, -7.32074477e-01,\n",
       "          2.66838470e-01],\n",
       "        [-2.04282071e-01, -9.44860554e-01,  2.30528074e-01,\n",
       "         -1.11194321e-01],\n",
       "        [ 5.86159424e-01,  7.51890810e-04,  1.37369527e-01,\n",
       "         -7.98464888e-01],\n",
       "        [ 5.72675970e-01, -3.31960469e-02,  6.26141661e-01,\n",
       "          5.28097411e-01]]))"
      ]
     },
     "execution_count": 9,
     "metadata": {},
     "output_type": "execute_result"
    }
   ],
   "source": [
    "# Compute eigenvalues and eigenvectors \n",
    "# (Normalized eigenvectors in columns)\n",
    "eigen_val, eigen_vec = np.linalg.eig(cov)\n",
    "eigen_val, eigen_vec"
   ]
  },
  {
   "cell_type": "code",
   "execution_count": 10,
   "id": "27bcc9c1-a777-4e1d-b1bf-577f017a335e",
   "metadata": {},
   "outputs": [
    {
     "data": {
      "text/plain": [
       "array([[ 1.00000000e+00,  3.37808373e-16,  8.32024453e-18,\n",
       "        -5.20083802e-17],\n",
       "       [ 3.37808373e-16,  1.00000000e+00, -7.98252889e-16,\n",
       "         7.09492045e-16],\n",
       "       [ 8.32024453e-18, -7.98252889e-16,  1.00000000e+00,\n",
       "         3.90694549e-17],\n",
       "       [-5.20083802e-17,  7.09492045e-16,  3.90694549e-17,\n",
       "         1.00000000e+00]])"
      ]
     },
     "execution_count": 10,
     "metadata": {},
     "output_type": "execute_result"
    }
   ],
   "source": [
    "# Check unit length of eigenvectors\n",
    "np.dot(eigen_vec.T, eigen_vec)"
   ]
  },
  {
   "cell_type": "code",
   "execution_count": 11,
   "id": "467ef91e-a27f-485f-914b-da6bd80500a2",
   "metadata": {},
   "outputs": [
    {
     "data": {
      "text/plain": [
       "(array([2.8998938 , 0.98708902, 0.13466453, 0.01681419]),\n",
       " array([[ 5.35470073e-01, -3.25785192e-01, -7.32074477e-01,\n",
       "          2.66838470e-01],\n",
       "        [-2.04282071e-01, -9.44860554e-01,  2.30528074e-01,\n",
       "         -1.11194321e-01],\n",
       "        [ 5.86159424e-01,  7.51890810e-04,  1.37369527e-01,\n",
       "         -7.98464888e-01],\n",
       "        [ 5.72675970e-01, -3.31960469e-02,  6.26141661e-01,\n",
       "          5.28097411e-01]]))"
      ]
     },
     "execution_count": 11,
     "metadata": {},
     "output_type": "execute_result"
    }
   ],
   "source": [
    "# # Sort eigenpairs in decreasing order\n",
    "idx = np.argsort(eigen_val)[::-1]\n",
    "eigen_val = eigen_val[idx]\n",
    "eigen_vec = eigen_vec[:, idx]\n",
    "eigen_val, eigen_vec"
   ]
  },
  {
   "cell_type": "code",
   "execution_count": 12,
   "id": "bb8fa74a-b464-4ad8-9ee2-18fa4af45ada",
   "metadata": {},
   "outputs": [
    {
     "data": {
      "text/plain": [
       "array([0.71806894, 0.24442204, 0.0333455 , 0.00416351])"
      ]
     },
     "execution_count": 12,
     "metadata": {},
     "output_type": "execute_result"
    }
   ],
   "source": [
    "# Compute explained variance\n",
    "exp_var = eigen_val / sum(eigen_val)\n",
    "exp_var"
   ]
  },
  {
   "cell_type": "code",
   "execution_count": 13,
   "id": "93113b4f-8a01-48c6-9ce1-1c5804f0b67c",
   "metadata": {},
   "outputs": [
    {
     "data": {
      "image/png": "[encoded data removed]",
      "text/plain": [
       "<Figure size 432x288 with 1 Axes>"
      ]
     },
     "metadata": {
      "needs_background": "light"
     },
     "output_type": "display_data"
    }
   ],
   "source": [
    "# Plot explained variance\n",
    "plt.bar(range(len(eigen_val)), exp_var, alpha=0.5, align='center', \n",
    "        label='individual explained variance')\n",
    "plt.step(range(len(eigen_val)), np.cumsum(exp_var), where='mid',\n",
    "         label='cumulative explained variance')\n",
    "plt.ylabel('Explained variance ratio')\n",
    "plt.xlabel('Principal components')\n",
    "plt.xticks(range(len(eigen_val)))\n",
    "plt.show()"
   ]
  },
  {
   "cell_type": "markdown",
   "id": "fc5cebe3-f18f-49b9-b976-2d57eeba381a",
   "metadata": {},
   "source": [
    "### Projection matrix\n",
    "\n",
    "The $n \\times k$-dimensional projection matrix $W$ is composed of the corresponding eigenvectors of the $k$ largest eigenvalues. With this matrix we can map the datapoints onto a new $k$ dimensional subspace, that is\n",
    "\n",
    "\\begin{equation}\n",
    "    Y = X \\times W,\n",
    "\\end{equation}\n",
    "\n",
    "where the $k$ columns of $Y$ are the principal components."
   ]
  },
  {
   "cell_type": "markdown",
   "id": "93d62f1f-7b5f-4940-981f-626b5937d715",
   "metadata": {},
   "source": [
    "### 2 principal components"
   ]
  },
  {
   "cell_type": "code",
   "execution_count": 14,
   "id": "3fb01e35-f695-4f11-afdd-94bd96c72a1e",
   "metadata": {},
   "outputs": [
    {
     "data": {
      "text/plain": [
       "(4, 2)"
      ]
     },
     "execution_count": 14,
     "metadata": {},
     "output_type": "execute_result"
    }
   ],
   "source": [
    "# Compute projection matrix for 2 principal components\n",
    "n_comps = 2\n",
    "W = np.vstack(eigen_vec[:, :n_comps])\n",
    "W.shape"
   ]
  },
  {
   "cell_type": "code",
   "execution_count": 15,
   "id": "fd65b3a3-ce2b-4693-aa14-83d697cade59",
   "metadata": {},
   "outputs": [
    {
     "data": {
      "text/plain": [
       "(105, 2)"
      ]
     },
     "execution_count": 15,
     "metadata": {},
     "output_type": "execute_result"
    }
   ],
   "source": [
    "# Project the training data to the subspace\n",
    "prin_comps = np.dot(X_train_std, W)\n",
    "prin_comps.shape"
   ]
  },
  {
   "cell_type": "code",
   "execution_count": 16,
   "id": "2993cf54-5bce-476c-809c-7b1a4c0dc585",
   "metadata": {},
   "outputs": [
    {
     "data": {
      "text/plain": [
       "array(['setosa', 'versicolor', 'virginica'], dtype='<U10')"
      ]
     },
     "execution_count": 16,
     "metadata": {},
     "output_type": "execute_result"
    }
   ],
   "source": [
    "data.target_names"
   ]
  },
  {
   "cell_type": "code",
   "execution_count": 17,
   "id": "bee60889-8581-46e1-a1a6-4c9c259999d0",
   "metadata": {},
   "outputs": [],
   "source": [
    "# Plot 2 principal components\n",
    "def plot_pca_2d(prin_comps, y, target_names):\n",
    "    for i, n, c in zip(np.unique(y), target_names, ['b','r','g']):\n",
    "        plt.scatter(prin_comps[y_train==i, 0], prin_comps[y_train==i, 1],\n",
    "                    label=n, c=c, s=20, edgecolor='k')\n",
    "    plt.xlabel('Principal component 1')\n",
    "    plt.ylabel('Principal component 2')\n",
    "    plt.legend(loc='best')\n",
    "    plt.show()"
   ]
  },
  {
   "cell_type": "code",
   "execution_count": 18,
   "id": "f054709d-88e7-4f29-8877-b984b864e6ab",
   "metadata": {},
   "outputs": [
    {
     "data": {
      "image/png": "[encoded data removed]",
      "text/plain": [
       "<Figure size 432x288 with 1 Axes>"
      ]
     },
     "metadata": {
      "needs_background": "light"
     },
     "output_type": "display_data"
    }
   ],
   "source": [
    "plot_pca_2d(prin_comps, y_train, data.target_names)"
   ]
  },
  {
   "cell_type": "markdown",
   "id": "4cfcb796-a72e-4b5b-8490-81fe7fcdfce6",
   "metadata": {},
   "source": [
    "### 3 principal components"
   ]
  },
  {
   "cell_type": "code",
   "execution_count": 19,
   "id": "4cde73c9-e616-4564-81ea-fbf7ba155cf2",
   "metadata": {},
   "outputs": [
    {
     "data": {
      "text/plain": [
       "(4, 3)"
      ]
     },
     "execution_count": 19,
     "metadata": {},
     "output_type": "execute_result"
    }
   ],
   "source": [
    "# Compute projection matrix for 3 principal components\n",
    "n_comps = 3\n",
    "W = np.vstack(eigen_vec[:, :n_comps])\n",
    "W.shape"
   ]
  },
  {
   "cell_type": "code",
   "execution_count": 20,
   "id": "0ec4cbc8-a581-4426-b704-59de1ad5f6b0",
   "metadata": {},
   "outputs": [
    {
     "data": {
      "text/plain": [
       "(105, 3)"
      ]
     },
     "execution_count": 20,
     "metadata": {},
     "output_type": "execute_result"
    }
   ],
   "source": [
    "# Project the training data to the subspace\n",
    "prin_comps = np.dot(X_train_std, W)\n",
    "prin_comps.shape"
   ]
  },
  {
   "cell_type": "code",
   "execution_count": 21,
   "id": "d356c4f9-f59c-47b8-afd5-73ddeffd105d",
   "metadata": {},
   "outputs": [],
   "source": [
    "# Plot 3 principal components\n",
    "def plot_pca_3d(prin_comps, y, target_names, azim=-80, elev=20):\n",
    "    fig = plt.figure(figsize=(8, 6))\n",
    "    ax = plt.axes(projection ='3d', azim=azim, elev=elev,\n",
    "                  xlabel='Principal component 1', \n",
    "                  ylabel='Principal component 2',\n",
    "                  zlabel='Principal component 3')\n",
    "    for i, l, c in zip(np.unique(y), target_names, ['b','r','g']):\n",
    "        ax.scatter(prin_comps[y==i, 0], prin_comps[y==i, 1],\n",
    "                   prin_comps[y==i, 2], c=c, s=20, edgecolor='k', label=l)\n",
    "    ax.legend()\n",
    "    plt.show()"
   ]
  },
  {
   "cell_type": "code",
   "execution_count": 22,
   "id": "6dc89e9b-ca0b-4e34-8442-5e28daa53dfd",
   "metadata": {},
   "outputs": [
    {
     "data": {
      "image/png": "[encoded data removed]",
      "text/plain": [
       "<Figure size 576x432 with 1 Axes>"
      ]
     },
     "metadata": {
      "needs_background": "light"
     },
     "output_type": "display_data"
    }
   ],
   "source": [
    "plot_pca_3d(prin_comps, y_train, data.target_names)"
   ]
  },
  {
   "cell_type": "code",
   "execution_count": null,
   "id": "defb1d56-42b3-4604-b271-f9c93b6cccbe",
   "metadata": {},
   "outputs": [],
   "source": []
  }
 ],
 "metadata": {
  "kernelspec": {
   "display_name": "Python 3 (ipykernel)",
   "language": "python",
   "name": "python3"
  },
  "language_info": {
   "codemirror_mode": {
    "name": "ipython",
    "version": 3
   },
   "file_extension": ".py",
   "mimetype": "text/x-python",
   "name": "python",
   "nbconvert_exporter": "python",
   "pygments_lexer": "ipython3",
   "version": "3.8.10"
  }
 },
 "nbformat": 4,
 "nbformat_minor": 5
}
