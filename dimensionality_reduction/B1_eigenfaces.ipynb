{
 "cells": [
  {
   "cell_type": "code",
   "execution_count": 1,
   "id": "4fedecac-a34a-417a-9eef-2a19930a7703",
   "metadata": {},
   "outputs": [],
   "source": [
    "%matplotlib inline\n",
    "\n",
    "import matplotlib.pyplot as plt\n",
    "import numpy as np\n",
    "import pandas as pd\n",
    "from sklearn.datasets import fetch_lfw_people\n",
    "from sklearn.model_selection import train_test_split\n",
    "from sklearn.preprocessing import StandardScaler\n",
    "from sklearn.decomposition import PCA\n",
    "from sklearn.svm import SVC\n",
    "from sklearn.metrics import accuracy_score\n",
    "from sklearn.pipeline import Pipeline"
   ]
  },
  {
   "cell_type": "code",
   "execution_count": 2,
   "id": "34aa7ef7-0801-41eb-b4e2-83d575da7e10",
   "metadata": {},
   "outputs": [
    {
     "data": {
      "text/plain": [
       "((1140, 1850), (1140,))"
      ]
     },
     "execution_count": 2,
     "metadata": {},
     "output_type": "execute_result"
    }
   ],
   "source": [
    "# Load data\n",
    "data = fetch_lfw_people(min_faces_per_person=100, resize=0.4)\n",
    " \n",
    "# Get features (pictures) and labels (persons)\n",
    "_, h, w = data.images.shape # h is height, w is width\n",
    "X = data.data\n",
    "y = data.target\n",
    "X.shape, y.shape"
   ]
  },
  {
   "cell_type": "code",
   "execution_count": 3,
   "id": "5d2949da-614e-4eb7-80c9-88bea9f5696d",
   "metadata": {},
   "outputs": [
    {
     "data": {
      "text/plain": [
       "<matplotlib.image.AxesImage at 0x7fbd9c302cd0>"
      ]
     },
     "execution_count": 3,
     "metadata": {},
     "output_type": "execute_result"
    },
    {
     "data": {
      "image/png": "[encoded data removed]",
      "text/plain": [
       "<Figure size 432x288 with 1 Axes>"
      ]
     },
     "metadata": {
      "needs_background": "light"
     },
     "output_type": "display_data"
    }
   ],
   "source": [
    "# Show example image\n",
    "plt.imshow(X[0].reshape((h, w)), cmap=plt.cm.gray)"
   ]
  },
  {
   "cell_type": "code",
   "execution_count": 4,
   "id": "46a613e0-3648-4587-a19b-736dbdb276a5",
   "metadata": {},
   "outputs": [
    {
     "data": {
      "text/plain": [
       "((798, 1850), (342, 1850), (798,), (342,))"
      ]
     },
     "execution_count": 4,
     "metadata": {},
     "output_type": "execute_result"
    }
   ],
   "source": [
    "# Split data in training and test set\n",
    "X_train, X_test, y_train, y_test = train_test_split(\n",
    "    X, y, test_size=0.3, shuffle=True, random_state=0)\n",
    "X_train.shape, X_test.shape, y_train.shape, y_test.shape"
   ]
  },
  {
   "cell_type": "code",
   "execution_count": 5,
   "id": "b3b2a88d-7228-4bd8-aeaa-967b0a54e222",
   "metadata": {},
   "outputs": [
    {
     "data": {
      "text/plain": [
       "[<matplotlib.lines.Line2D at 0x7fbd99a06a60>]"
      ]
     },
     "execution_count": 5,
     "metadata": {},
     "output_type": "execute_result"
    },
    {
     "data": {
      "image/png": "[encoded data removed]",
      "text/plain": [
       "<Figure size 432x288 with 1 Axes>"
      ]
     },
     "metadata": {
      "needs_background": "light"
     },
     "output_type": "display_data"
    }
   ],
   "source": [
    "# Fit pipeline\n",
    "scaler = StandardScaler()\n",
    "pca = PCA()\n",
    "pipe = Pipeline([('scaler', scaler), ('pca', pca)]).fit(X_train)\n",
    "\n",
    "# Plot cummulated explained variance\n",
    "plt.plot(pca.explained_variance_ratio_.cumsum(), lw=3)"
   ]
  },
  {
   "cell_type": "code",
   "execution_count": 6,
   "id": "7d2e3074-3473-458c-804b-647095102eaf",
   "metadata": {},
   "outputs": [
    {
     "data": {
      "text/plain": [
       "70"
      ]
     },
     "execution_count": 6,
     "metadata": {},
     "output_type": "execute_result"
    }
   ],
   "source": [
    "# Check how many principal components are needed to keep 90% variance\n",
    "n_comps = np.where(pca.explained_variance_ratio_.cumsum() >= .90)[0][0]\n",
    "n_comps"
   ]
  },
  {
   "cell_type": "code",
   "execution_count": 7,
   "id": "5574279f-b12e-4412-9056-a195b576061c",
   "metadata": {},
   "outputs": [
    {
     "data": {
      "image/png": "[encoded data removed]",
      "text/plain": [
       "<Figure size 432x288 with 1 Axes>"
      ]
     },
     "metadata": {
      "needs_background": "light"
     },
     "output_type": "display_data"
    }
   ],
   "source": [
    "# Set number of principal components \n",
    "pca.n_comps = n_comps\n",
    "\n",
    "# Refit pipeline\n",
    "pipe.fit(X_train)\n",
    "\n",
    "# Get eigenfaces aka the principal components\n",
    "eigenfaces = pca.components_\n",
    "\n",
    "# Show example image\n",
    "plt.imshow(eigenfaces[0].reshape((h, w)), cmap=plt.cm.gray)\n",
    "plt.show()"
   ]
  },
  {
   "cell_type": "code",
   "execution_count": 8,
   "id": "defb1d56-42b3-4604-b271-f9c93b6cccbe",
   "metadata": {},
   "outputs": [
    {
     "data": {
      "text/plain": [
       "0.8947368421052632"
      ]
     },
     "execution_count": 8,
     "metadata": {},
     "output_type": "execute_result"
    }
   ],
   "source": [
    "# Train SVM with principal components\n",
    "clf = SVC(kernel='linear').fit(pipe.transform(X_train), y_train)\n",
    "\n",
    "# Predict labels\n",
    "y_test_pred = clf.predict(pipe.transform(X_test))\n",
    "\n",
    "# Show test score\n",
    "accuracy_score(y_test, y_test_pred)"
   ]
  },
  {
   "cell_type": "code",
   "execution_count": null,
   "id": "e6291bbe-941c-4d63-92fd-73e6b98a0cd4",
   "metadata": {},
   "outputs": [],
   "source": []
  }
 ],
 "metadata": {
  "kernelspec": {
   "display_name": "Python 3 (ipykernel)",
   "language": "python",
   "name": "python3"
  },
  "language_info": {
   "codemirror_mode": {
    "name": "ipython",
    "version": 3
   },
   "file_extension": ".py",
   "mimetype": "text/x-python",
   "name": "python",
   "nbconvert_exporter": "python",
   "pygments_lexer": "ipython3",
   "version": "3.8.10"
  }
 },
 "nbformat": 4,
 "nbformat_minor": 5
}
