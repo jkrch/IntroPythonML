{
 "cells": [
  {
   "cell_type": "code",
   "execution_count": 4,
   "id": "fde2d512-2a12-4da7-b53e-0ad74d48a2dd",
   "metadata": {},
   "outputs": [],
   "source": [
    "%matplotlib inline\n",
    "\n",
    "import matplotlib.pyplot as plt\n",
    "import numpy as np\n",
    "import pandas as pd\n",
    "import seaborn as sn\n",
    "from sklearn.datasets import load_digits\n",
    "from sklearn.model_selection import train_test_split, GridSearchCV\n",
    "from sklearn.preprocessing import MinMaxScaler, StandardScaler\n",
    "from sklearn.neighbors import KNeighborsClassifier\n",
    "from sklearn.linear_model import LogisticRegression\n",
    "from sklearn.svm import SVC\n",
    "from sklearn.pipeline import Pipeline\n",
    "from sklearn.metrics import confusion_matrix, accuracy_score"
   ]
  },
  {
   "cell_type": "code",
   "execution_count": 5,
   "id": "6885c1e4-9f05-4264-8695-20282dbd49ec",
   "metadata": {},
   "outputs": [
    {
     "data": {
      "text/plain": [
       "<Figure size 432x288 with 0 Axes>"
      ]
     },
     "metadata": {},
     "output_type": "display_data"
    },
    {
     "data": {
      "image/png": "[encoded data removed]",
      "text/plain": [
       "<Figure size 288x288 with 1 Axes>"
      ]
     },
     "metadata": {
      "needs_background": "light"
     },
     "output_type": "display_data"
    }
   ],
   "source": [
    "# Load digits dataset\n",
    "data = load_digits()\n",
    "\n",
    "# Plot example digit\n",
    "plt.gray() \n",
    "plt.matshow(data.images[0]) \n",
    "plt.show()"
   ]
  },
  {
   "cell_type": "code",
   "execution_count": 7,
   "id": "04263a1c-4a39-407c-898a-22b090838fe6",
   "metadata": {},
   "outputs": [
    {
     "data": {
      "text/plain": [
       "((1797, 64), (1797,))"
      ]
     },
     "execution_count": 7,
     "metadata": {},
     "output_type": "execute_result"
    }
   ],
   "source": [
    "# Get data X and class labels y\n",
    "X = data.data\n",
    "y = data.target\n",
    "X.shape, y.shape"
   ]
  },
  {
   "cell_type": "code",
   "execution_count": 8,
   "id": "2bb3003d-89c1-430b-86ff-fb39345eb2f8",
   "metadata": {},
   "outputs": [
    {
     "data": {
      "text/plain": [
       "array([ 0.,  0.,  5., 13.,  9.,  1.,  0.,  0.,  0.,  0., 13., 15., 10.,\n",
       "       15.,  5.,  0.,  0.,  3., 15.,  2.,  0., 11.,  8.,  0.,  0.,  4.,\n",
       "       12.,  0.,  0.,  8.,  8.,  0.,  0.,  5.,  8.,  0.,  0.,  9.,  8.,\n",
       "        0.,  0.,  4., 11.,  0.,  1., 12.,  7.,  0.,  0.,  2., 14.,  5.,\n",
       "       10., 12.,  0.,  0.,  0.,  0.,  6., 13., 10.,  0.,  0.,  0.])"
      ]
     },
     "execution_count": 8,
     "metadata": {},
     "output_type": "execute_result"
    }
   ],
   "source": [
    "# Print example\n",
    "X[0]"
   ]
  },
  {
   "cell_type": "code",
   "execution_count": 9,
   "id": "6334f286-d6b9-4b15-ba7d-9e82f25c1985",
   "metadata": {},
   "outputs": [
    {
     "data": {
      "text/plain": [
       "((1257, 64), (540, 64), (1257,), (540,))"
      ]
     },
     "execution_count": 9,
     "metadata": {},
     "output_type": "execute_result"
    }
   ],
   "source": [
    "# Split data in training and test set\n",
    "X_train, X_test, y_train, y_test = train_test_split(\n",
    "    X, y, test_size = 0.3, shuffle=True, random_state=0)\n",
    "X_train.shape, X_test.shape, y_train.shape, y_test.shape "
   ]
  },
  {
   "cell_type": "markdown",
   "id": "7db81a4b-5b81-4dbf-966b-97d57de4a9ef",
   "metadata": {},
   "source": [
    "## KNN"
   ]
  },
  {
   "cell_type": "code",
   "execution_count": 10,
   "id": "890f1cf4-6779-40d3-bfc9-dc342f6e7024",
   "metadata": {},
   "outputs": [
    {
     "data": {
      "text/plain": [
       "{'clf__metric': 'euclidean', 'clf__n_neighbors': 1, 'clf__weights': 'uniform'}"
      ]
     },
     "execution_count": 10,
     "metadata": {},
     "output_type": "execute_result"
    }
   ],
   "source": [
    "# Paramter grid for knn\n",
    "param_grid_knn = {\n",
    "    'clf__n_neighbors': range(1, 10),\n",
    "    'clf__weights': ['uniform', 'distance'],\n",
    "    'clf__metric': ['euclidean', 'manhattan', 'minkowski']\n",
    "}\n",
    "\n",
    "# Build pipeline\n",
    "pipe_knn = Pipeline([\n",
    "    ('scaler', MinMaxScaler()),\n",
    "    ('clf', KNeighborsClassifier())\n",
    "])\n",
    "\n",
    "# Apply grid search cross validation\n",
    "grid_search = GridSearchCV(pipe_knn, param_grid_knn).fit(X_train, y_train)\n",
    "\n",
    "# Show best estimator\n",
    "grid_search.best_params_"
   ]
  },
  {
   "cell_type": "code",
   "execution_count": 11,
   "id": "42529623-435a-4c62-bb1a-ca94fce95792",
   "metadata": {},
   "outputs": [
    {
     "data": {
      "text/plain": [
       "0.983295389869095"
      ]
     },
     "execution_count": 11,
     "metadata": {},
     "output_type": "execute_result"
    }
   ],
   "source": [
    "# Show score of best estimator\n",
    "grid_search.best_score_"
   ]
  },
  {
   "cell_type": "code",
   "execution_count": 13,
   "id": "98bf4337-ac92-4426-9ef1-ba6303e7fc62",
   "metadata": {},
   "outputs": [],
   "source": [
    "def conf_mat(y_true, y_pred, title='Confusion matrix', target_names=None):\n",
    "    \"\"\"Plot confusion matrix as heatmap.\n",
    "    \n",
    "    Parameters\n",
    "    ----------\n",
    "        y_true : ndarray of shape (n_samples,)\n",
    "            True labels.\n",
    "        y_pred : ndarray of shape (n_samples,)\n",
    "            Predicted labels.\n",
    "        target_names : list of strings\n",
    "            Names of the labels.\n",
    "    \"\"\"\n",
    "    df_cm = pd.DataFrame(confusion_matrix(y_true, y_pred), target_names,\n",
    "                         target_names)\n",
    "    sn.heatmap(df_cm, annot=True, cmap='YlGnBu', fmt='g')\n",
    "    plt.ylabel('True Labels')\n",
    "    plt.xlabel('Predicted Labels')\n",
    "    plt.title(title)"
   ]
  },
  {
   "cell_type": "code",
   "execution_count": 14,
   "id": "26f1ae46-d9a5-4fe2-9615-ae97116917b7",
   "metadata": {},
   "outputs": [
    {
     "data": {
      "image/png": "[encoded data removed]",
      "text/plain": [
       "<Figure size 432x288 with 2 Axes>"
      ]
     },
     "metadata": {
      "needs_background": "light"
     },
     "output_type": "display_data"
    }
   ],
   "source": [
    "# Plot confusion matrix as heatmap\n",
    "conf_mat(y_test, grid_search.predict(X_test), \"KNN\", data.target_names)"
   ]
  },
  {
   "cell_type": "markdown",
   "id": "1c15350c-3899-4c6d-aa8c-dbdaa0700fd2",
   "metadata": {},
   "source": [
    "## Logistic regression"
   ]
  },
  {
   "cell_type": "code",
   "execution_count": 50,
   "id": "bac47393-53d8-4dd1-ab19-0eaf60d3749f",
   "metadata": {},
   "outputs": [
    {
     "data": {
      "text/plain": [
       "{'clf__C': 0.5}"
      ]
     },
     "execution_count": 50,
     "metadata": {},
     "output_type": "execute_result"
    }
   ],
   "source": [
    "# Paramter grid for knn\n",
    "param_grid_logreg = {\n",
    "    'clf__C': [0.5, 1, 5, 10],\n",
    "}\n",
    "\n",
    "# Build pipeline\n",
    "pipe_logreg = Pipeline([\n",
    "    ('scaler', StandardScaler()),\n",
    "    ('clf', LogisticRegression())\n",
    "])\n",
    "\n",
    "# Apply grid search cross validation\n",
    "grid_search = GridSearchCV(pipe_logreg, param_grid_logreg, n_jobs=-1).fit(\n",
    "    X_train, y_train)\n",
    "\n",
    "# Show best estimator\n",
    "grid_search.best_params_"
   ]
  },
  {
   "cell_type": "code",
   "execution_count": 51,
   "id": "3b3261d9-7d96-4865-8d40-e882b287bac2",
   "metadata": {},
   "outputs": [
    {
     "data": {
      "text/plain": [
       "0.9697653829127934"
      ]
     },
     "execution_count": 51,
     "metadata": {},
     "output_type": "execute_result"
    }
   ],
   "source": [
    "# Show score of best estimator\n",
    "grid_search.best_score_"
   ]
  },
  {
   "cell_type": "code",
   "execution_count": 52,
   "id": "38c25cb7-41a6-4361-a086-97eb4e8a1782",
   "metadata": {},
   "outputs": [
    {
     "data": {
      "image/png": "[encoded data removed]",
      "text/plain": [
       "<Figure size 432x288 with 2 Axes>"
      ]
     },
     "metadata": {
      "needs_background": "light"
     },
     "output_type": "display_data"
    }
   ],
   "source": [
    "# Plot confusion matrix as heatmap\n",
    "conf_mat(y_test, grid_search.best_estimator_.predict(X_test),\n",
    "         \"Logistic regression\", data.target_names)"
   ]
  },
  {
   "cell_type": "markdown",
   "id": "1d769e38-af78-417c-a0ab-15c6ca39866d",
   "metadata": {},
   "source": [
    "# SVM"
   ]
  },
  {
   "cell_type": "code",
   "execution_count": 58,
   "id": "0d470ab5-898f-4dbd-9852-49cd20332222",
   "metadata": {},
   "outputs": [
    {
     "data": {
      "text/plain": [
       "{'clf__C': 0.5}"
      ]
     },
     "execution_count": 58,
     "metadata": {},
     "output_type": "execute_result"
    }
   ],
   "source": [
    "# Paramter grid for knn\n",
    "param_grid_svm = {\n",
    "    'clf__C': [0.5, 1, 5, 10],\n",
    "}\n",
    "\n",
    "# Build pipeline\n",
    "pipe_svm = Pipeline([\n",
    "    ('scaler', StandardScaler()),\n",
    "    ('clf', SVC(kernel='linear'))\n",
    "])\n",
    "\n",
    "# Apply grid search cross validation\n",
    "grid_search = GridSearchCV(pipe_svm, param_grid_svm, n_jobs=-1).fit(\n",
    "    X_train, y_train)\n",
    "\n",
    "# Show best estimator\n",
    "grid_search.best_params_"
   ]
  },
  {
   "cell_type": "code",
   "execution_count": 59,
   "id": "ffacc385-911e-4874-8812-6bfd12fbba92",
   "metadata": {},
   "outputs": [
    {
     "data": {
      "text/plain": [
       "0.9777240245367735"
      ]
     },
     "execution_count": 59,
     "metadata": {},
     "output_type": "execute_result"
    }
   ],
   "source": [
    "# Show score of best estimator\n",
    "grid_search.best_score_"
   ]
  },
  {
   "cell_type": "code",
   "execution_count": 60,
   "id": "db2d625e-8661-4076-bf16-5e56c7de26c7",
   "metadata": {},
   "outputs": [
    {
     "data": {
      "image/png": "[encoded data removed]",
      "text/plain": [
       "<Figure size 432x288 with 2 Axes>"
      ]
     },
     "metadata": {
      "needs_background": "light"
     },
     "output_type": "display_data"
    }
   ],
   "source": [
    "# Plot confusion matrix as heatmap\n",
    "conf_mat(y_test, grid_search.best_estimator_.predict(X_test),\n",
    "         \"SVM\", data.target_names)"
   ]
  },
  {
   "cell_type": "code",
   "execution_count": null,
   "id": "dc7ed100-f880-4427-8554-098f26e33f0f",
   "metadata": {},
   "outputs": [],
   "source": []
  }
 ],
 "metadata": {
  "kernelspec": {
   "display_name": "Python 3 (ipykernel)",
   "language": "python",
   "name": "python3"
  },
  "language_info": {
   "codemirror_mode": {
    "name": "ipython",
    "version": 3
   },
   "file_extension": ".py",
   "mimetype": "text/x-python",
   "name": "python",
   "nbconvert_exporter": "python",
   "pygments_lexer": "ipython3",
   "version": "3.8.10"
  }
 },
 "nbformat": 4,
 "nbformat_minor": 5
}
