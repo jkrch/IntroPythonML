{
 "cells": [
  {
   "cell_type": "code",
   "execution_count": 1,
   "id": "6dcc1825-3e2b-460b-b252-3c9c7a72c4ea",
   "metadata": {},
   "outputs": [],
   "source": [
    "%matplotlib inline\n",
    "\n",
    "import matplotlib.pyplot as plt\n",
    "import numpy as np\n",
    "import pandas as pd\n",
    "import math\n",
    "from sklearn.datasets import make_regression\n",
    "from sklearn.model_selection import train_test_split\n",
    "from sklearn.preprocessing import StandardScaler, PolynomialFeatures\n",
    "from sklearn.linear_model import LinearRegression\n",
    "from sklearn.metrics import mean_squared_error, r2_score"
   ]
  },
  {
   "cell_type": "code",
   "execution_count": 2,
   "id": "186c2bc4-a5af-4618-b687-faaeb4da41bf",
   "metadata": {},
   "outputs": [],
   "source": [
    "# Suppress scientific notation in prints\n",
    "np.set_printoptions(suppress=True)"
   ]
  },
  {
   "cell_type": "markdown",
   "id": "57dac63f-7f63-4e29-b0e4-80c4e21aa6ee",
   "metadata": {},
   "source": [
    "# Univariate regression\n",
    "\n",
    "We have a given dataset \n",
    "\n",
    "$$\n",
    "    (X, y) \\in \\mathbb{R}^{m \\times 2},\n",
    "$$\n",
    "\n",
    "with $m$ the number of samples.\n",
    "\n",
    "In the dateset we have the features \n",
    "\n",
    "$$\n",
    "    X \\in \\mathbb{R}^m\n",
    "$$ \n",
    "\n",
    "and the targets \n",
    "\n",
    "$$\n",
    "    y \\in \\mathbb{R}^m.\n",
    "$$\n",
    "\n",
    "We say\n",
    "\n",
    "$$\n",
    "    (X^{(i)}, y^{(i)}) \\in \\mathbb{R}^{1 \\times 2}\n",
    "$$\n",
    "\n",
    "is the $i$-th example $(i = 1, \\dots, m)$."
   ]
  },
  {
   "cell_type": "markdown",
   "id": "eb396aed-dd87-4c80-a64a-74dac170fc0f",
   "metadata": {},
   "source": [
    "## Linear regression"
   ]
  },
  {
   "cell_type": "code",
   "execution_count": 3,
   "id": "f6ad158e-041d-47b2-997d-bdaa1c002dff",
   "metadata": {},
   "outputs": [
    {
     "data": {
      "image/png": "[encoded data removed]",
      "text/plain": [
       "<Figure size 432x288 with 1 Axes>"
      ]
     },
     "metadata": {
      "needs_background": "light"
     },
     "output_type": "display_data"
    }
   ],
   "source": [
    "# Make simple example\n",
    "X, y = make_regression(n_samples=100, n_features=1, noise=20, random_state=0)\n",
    "\n",
    "# Plot data\n",
    "plt.scatter(X, y, s=20)\n",
    "plt.show()"
   ]
  },
  {
   "cell_type": "code",
   "execution_count": 4,
   "id": "d2cb52e1-9261-4901-9f84-e2b96ccd7d95",
   "metadata": {},
   "outputs": [
    {
     "data": {
      "text/plain": [
       "((70, 1), (30, 1), (70,), (30,))"
      ]
     },
     "execution_count": 4,
     "metadata": {},
     "output_type": "execute_result"
    }
   ],
   "source": [
    "# Split data in training and test set\n",
    "X_train, X_test, y_train, y_test = train_test_split(\n",
    "    X, y, test_size=0.3, shuffle=True, random_state=0)\n",
    "X_train.shape, X_test.shape, y_train.shape, y_test.shape"
   ]
  },
  {
   "cell_type": "code",
   "execution_count": 5,
   "id": "13bb5a68-59d9-4843-9d72-ab780fbae05b",
   "metadata": {},
   "outputs": [
    {
     "data": {
      "image/png": "[encoded data removed]",
      "text/plain": [
       "<Figure size 720x216 with 2 Axes>"
      ]
     },
     "metadata": {
      "needs_background": "light"
     },
     "output_type": "display_data"
    }
   ],
   "source": [
    "# Plot training and test sets\n",
    "def plot_train_test(X_train, X_test):\n",
    "    \"\"\"Plot training and test sets side by side.\n",
    "        \n",
    "    Parameter\n",
    "    ---------\n",
    "        X_train : ndarray of shape (n_samples, n_features)\n",
    "            Training features.\n",
    "        X_train : ndarray of shape (n_samples, n_features)\n",
    "            Test features.   \n",
    "    \"\"\"\n",
    "    fig, axs = plt.subplots(nrows=1, ncols=2, figsize=(10, 3))\n",
    "    axs[0].scatter(X_train, y_train, s=20)\n",
    "    axs[1].scatter(X_test, y_test, s=20)\n",
    "    return fig, axs\n",
    "\n",
    "# Plot training and test sets\n",
    "plot_train_test(X_train, X_test)\n",
    "plt.show()"
   ]
  },
  {
   "cell_type": "markdown",
   "id": "cd4e40a1-4a0e-4c55-8fd1-8372d5e18a9d",
   "metadata": {},
   "source": [
    "### Hypothesis\n",
    "\n",
    "The hypothesis for *linear regression* is given by\n",
    "\n",
    "$$\n",
    "    h_{w, b}(x) = w x + b, \n",
    "$$\n",
    "\n",
    "where $w \\in \\mathbb{R}$ is the weight (coefficent) and $b \\in \\mathbb{R}$ is the bias (intercept).\n",
    "\n",
    "<!-- We can also write\n",
    "\n",
    "$$\n",
    "    h_{w}(x) = \\sum_{j=1}^2 w_j x =  w_0 + w_1 x,\n",
    "$$\n",
    "\n",
    "if we set $w_1 := w$ and $w_0 := b$ and $x_0 := 1$. -->"
   ]
  },
  {
   "cell_type": "code",
   "execution_count": 6,
   "id": "e73e0fbd-2ba5-4a3c-a2ee-d8969c0a41d9",
   "metadata": {},
   "outputs": [],
   "source": [
    "# Compute the hypothesis and return as shape (n_samples,)\n",
    "hypo = lambda X, w, b: np.sum(w * X, axis=1) + b"
   ]
  },
  {
   "cell_type": "markdown",
   "id": "317c0b6f-e608-4873-8f14-d47a00766017",
   "metadata": {},
   "source": [
    "### Cost function\n",
    "\n",
    "The cost function (*mean squared error*) for *linear regression* is given by\n",
    "\n",
    "$$\n",
    "\\begin{align*}\n",
    "    MSE(w,b) &= \\| y^{(i)} - h_{w,b}(x^{(i)}) \\|_2 \\\\\n",
    "             &= \\frac{1}{m} \\sum\\limits_{i=1}^m \\left( y^{(i)} - h_{w,b}(x^{(i)}) \\right)^2 \\\\\n",
    "             &= \\frac{1}{m} \\sum\\limits_{i=1}^m \\left( y^{(i)} - (w x^{(i)} + b) \\right)^2 ,\n",
    "\\end{align*}\n",
    "$$\n",
    "\n",
    "where $m$ is the number of samples."
   ]
  },
  {
   "cell_type": "code",
   "execution_count": 7,
   "id": "7cec6c46-b8bd-4a75-b1ea-2d3375803f30",
   "metadata": {},
   "outputs": [],
   "source": [
    "# Compute the cost function (mean squared error)\n",
    "mse = lambda X, y, w, b: np.mean(np.square(y - hypo(X, w, b)))"
   ]
  },
  {
   "cell_type": "markdown",
   "id": "4a1c0ed5-9bac-4bc2-8cb9-e9da533722e4",
   "metadata": {},
   "source": [
    "### Gradient descent\n",
    "\n",
    "#### Goal\n",
    "\n",
    "$$\n",
    "    \\underset{w \\in \\mathbb{R}, ~ b \\in \\mathbb{R}}{\\textbf{minimize}} MSE(w,b)\n",
    "$$\n",
    "\n",
    "#### Idea\n",
    "\n",
    "$$\n",
    "\\begin{align*}\n",
    "    w &= w - \\alpha \\cdot \\frac{\\partial}{\\partial w} MSE(w,b) \\\\\n",
    "    b &= b - \\alpha \\cdot \\frac{\\partial}{\\partial b} MSE(w,b)\n",
    "\\end{align*}\n",
    "$$\n",
    "\n",
    "#### Partial derivaties\n",
    "\n",
    "$$\n",
    "\\begin{align*}\n",
    "    \\frac{\\partial}{\\partial w} MSE(w,b) &= \\frac{2}{m} \\sum\\limits_{i=1}^m x^{(i)} \\left( y^{(i)} - h_{w,b}(x^{(i)}) \\right) \\\\\n",
    "    \\frac{\\partial}{\\partial b} MSE(w,b) &= \\frac{2}{m} \\sum\\limits_{i=1}^m y^{(i)} - h_{w,b}(x^{(i)})\n",
    "\\end{align*}\n",
    "$$"
   ]
  },
  {
   "cell_type": "code",
   "execution_count": 8,
   "id": "68871bf6-ab9e-449c-a993-6446bf61ef9f",
   "metadata": {},
   "outputs": [],
   "source": [
    "def gradient_descent(X, y, w, b, alpha, num_iters):  \n",
    "    \"\"\"Simple gradient descent.\n",
    "    \n",
    "    TODO: Plot cost function.\n",
    "    \n",
    "    Parameter\n",
    "    ---------\n",
    "        X : ndarray of shape (n_samples, n_features)\n",
    "            Features.\n",
    "        y : ndarray of shape (n_samples,)\n",
    "            Labels.\n",
    "        w : float\n",
    "            Weight.\n",
    "        b : float\n",
    "            Bias.\n",
    "        alpha : float\n",
    "            Stepsize.\n",
    "        num_iter : int\n",
    "            Number of iterations.\n",
    "    \n",
    "    Return\n",
    "    ------\n",
    "        w : float\n",
    "            Updated weight.\n",
    "        b : float\n",
    "            Updated bias.\n",
    "    \"\"\"\n",
    "    # Number of samples\n",
    "    m = len(X)\n",
    "    \n",
    "    # Iteratively update the weight and bias\n",
    "    for i in range(0, num_iters):\n",
    "        \n",
    "        # Compute predictions (for all samples)\n",
    "        predictions = hypo(X, w, b)\n",
    "        \n",
    "        # Compute residuals (for all samples)\n",
    "        residuals = predictions - y\n",
    "        \n",
    "        # Compute partial derivitaves \n",
    "        w_gradient = 2 * np.mean(residuals.reshape(-1, 1) * X, axis=0)\n",
    "        b_gradient = 2 * np.mean(residuals)\n",
    "\n",
    "        # Update weight and bias\n",
    "        w = w - alpha * w_gradient\n",
    "        b = b - alpha * b_gradient\n",
    "        \n",
    "    return w, b"
   ]
  },
  {
   "cell_type": "code",
   "execution_count": 9,
   "id": "c60fa797-37fc-459d-a21c-90134d8e3d20",
   "metadata": {},
   "outputs": [],
   "source": [
    "def linear_regression(X, y, alpha, num_iters, tol=None):\n",
    "    \"\"\"Linear regression using gradient descent.\n",
    "    \n",
    "    Parameter\n",
    "    ---------\n",
    "        X : ndarray of shpae (n_samples, n_features)\n",
    "            Features.\n",
    "        y : ndarray of shape (n_samples,)\n",
    "            Labels.        \n",
    "        alpha : float\n",
    "            Stepsize.\n",
    "        num_iter : int\n",
    "            Number of iterations.\n",
    "    \n",
    "    Return\n",
    "    ------\n",
    "        w : float\n",
    "            Updated weight.\n",
    "        b : float\n",
    "            Updated bias.\n",
    "    \"\"\"\n",
    "    w = np.zeros(X.shape[1])\n",
    "    b = 0.0\n",
    "    w, b = gradient_descent(X, y, w, b, alpha, num_iters)\n",
    "    if tol:\n",
    "        pass\n",
    "    return w, b"
   ]
  },
  {
   "cell_type": "code",
   "execution_count": 10,
   "id": "76639878-710c-4fdf-804d-6f340308c331",
   "metadata": {},
   "outputs": [
    {
     "data": {
      "text/plain": [
       "(array([38.48624797]), -0.5013415494516644)"
      ]
     },
     "execution_count": 10,
     "metadata": {},
     "output_type": "execute_result"
    }
   ],
   "source": [
    "w, b = linear_regression(X_train, y_train, 0.0001, 10000)\n",
    "w, b"
   ]
  },
  {
   "cell_type": "code",
   "execution_count": 11,
   "id": "2cfbccb4-98b0-4e3c-b38f-5610b899af01",
   "metadata": {},
   "outputs": [],
   "source": [
    "# Plot training and test sets and regression lines\n",
    "def plot_train_test_reg_line(X_train, X_test, w, b):\n",
    "    fig, axs = plot_train_test(X_train, X_test)\n",
    "    for i, iX in enumerate([X_train, X_test]):\n",
    "        xlim = axs[i].get_xlim()\n",
    "        xx = np.linspace(xlim[0], xlim[1], 2).reshape(-1, 1)\n",
    "        axs[i].plot(xx, hypo(xx, w, b), c='r')"
   ]
  },
  {
   "cell_type": "code",
   "execution_count": 12,
   "id": "ec2d4d4f-88cc-48c2-bfbb-50a1b6743b0a",
   "metadata": {},
   "outputs": [
    {
     "data": {
      "image/png": "[encoded data removed]",
      "text/plain": [
       "<Figure size 720x216 with 2 Axes>"
      ]
     },
     "metadata": {
      "needs_background": "light"
     },
     "output_type": "display_data"
    }
   ],
   "source": [
    "# Plot training and test sets and regression lines\n",
    "plot_train_test_reg_line(X_train, X_test, w, b)\n",
    "plt.show()"
   ]
  },
  {
   "cell_type": "code",
   "execution_count": 13,
   "id": "9a599ac3-c24c-4ceb-a83b-92e4b1adb13a",
   "metadata": {},
   "outputs": [
    {
     "data": {
      "text/plain": [
       "(497.2552852359031, 429.1012773684371)"
      ]
     },
     "execution_count": 13,
     "metadata": {},
     "output_type": "execute_result"
    }
   ],
   "source": [
    "mse(X_train, y_train, w, b), mse(X_test, y_test, w, b)"
   ]
  },
  {
   "cell_type": "markdown",
   "id": "825df4f7-be48-466f-a224-b19e58f43ca5",
   "metadata": {},
   "source": [
    "### $R^2$ score\n",
    "\n",
    "The residual sum of squares is defined by\n",
    "\n",
    "$$\n",
    "    SS_{res} = \\sum_{i=1}^m \\left( y^{(i)} - h_{w,b}(x^{(i)}) \\right)^2.\n",
    "$$\n",
    "\n",
    "The total sum of squares is defined by\n",
    "\n",
    "$$\n",
    "    SS_{res} = \\sum_{i=1}^m \\left( y^{(i)} - \\frac{1}{n} \\sum_{i=1}^n y^{(i)} \\right)^2.\n",
    "$$\n",
    "\n",
    "The $R^2$ score (or coefficient of determenation) is then defined by\n",
    "\n",
    "$$\n",
    "    R^2 = 1 - {SS_{\\rm res}\\over SS_{\\rm tot}}.\n",
    "$$"
   ]
  },
  {
   "cell_type": "code",
   "execution_count": 14,
   "id": "2fbe4024-0e3d-4890-89a6-f535d74304ee",
   "metadata": {},
   "outputs": [],
   "source": [
    "# Function for residual sum of squares\n",
    "ss_res = lambda X, y, w, b: np.sum(np.square(y - hypo(X, w, b)))\n",
    "\n",
    "# Function for total sum of squares\n",
    "ss_tot = lambda y: np.sum(np.square(y - np.mean(y)))\n",
    "\n",
    "# Function for coefficient of determination aka R^2\n",
    "r2 = lambda X, y, w, b: 1 - ss_res(X, y, w, b) / ss_tot(y)"
   ]
  },
  {
   "cell_type": "code",
   "execution_count": 15,
   "id": "fcf31270-1f15-4685-b544-27471012e28a",
   "metadata": {},
   "outputs": [
    {
     "data": {
      "text/plain": [
       "(0.7977347885718972, 0.784711491709911)"
      ]
     },
     "execution_count": 15,
     "metadata": {},
     "output_type": "execute_result"
    }
   ],
   "source": [
    "r2(X_train, y_train, w, b), r2(X_test, y_test, w, b)"
   ]
  },
  {
   "cell_type": "markdown",
   "id": "ab07334a-0ff7-4be4-9fd7-bf07a24cf482",
   "metadata": {},
   "source": [
    "### Standardization \n",
    "\n",
    "Standardization (z-score normalization) is given by\n",
    "\n",
    "$$\n",
    "    x' = \\frac{x - \\mu}{\\sigma},\n",
    "$$\n",
    "\n",
    "where $\\mu$ is the mean of the input data $x$ and $\\sigma$ the variance.\n",
    "\n",
    "#### Why standardize?\n",
    "\n",
    "![Alt text](https://external-content.duckduckgo.com/iu/?u=https%3A%2F%2Fmiro.medium.com%2Fmax%2F2972%2F1*vXpodxSx-nslMSpOELhovg.png&f=1&nofb=1)"
   ]
  },
  {
   "cell_type": "code",
   "execution_count": 16,
   "id": "0d6084da-2d94-4f17-b4eb-9f570e0b652d",
   "metadata": {},
   "outputs": [
    {
     "data": {
      "image/png": "[encoded data removed]",
      "text/plain": [
       "<Figure size 432x288 with 1 Axes>"
      ]
     },
     "metadata": {
      "needs_background": "light"
     },
     "output_type": "display_data"
    }
   ],
   "source": [
    "# Scale features\n",
    "X *= 20\n",
    "\n",
    "# Shift features\n",
    "X += 10\n",
    "\n",
    "# Plot data\n",
    "plt.scatter(X, y, s=20)\n",
    "plt.show()"
   ]
  },
  {
   "cell_type": "code",
   "execution_count": 17,
   "id": "62a2bb64-e28e-4a97-98f8-dc03e375451e",
   "metadata": {},
   "outputs": [
    {
     "data": {
      "text/plain": [
       "(11.196160310689699, 20.157644894331593)"
      ]
     },
     "execution_count": 17,
     "metadata": {},
     "output_type": "execute_result"
    }
   ],
   "source": [
    "# Show mean and standard derivation\n",
    "X.mean(), X.std()"
   ]
  },
  {
   "cell_type": "code",
   "execution_count": 18,
   "id": "498fa95f-ede0-43f2-88fe-318578bfe0b9",
   "metadata": {},
   "outputs": [
    {
     "data": {
      "image/png": "[encoded data removed]",
      "text/plain": [
       "<Figure size 432x288 with 1 Axes>"
      ]
     },
     "metadata": {
      "needs_background": "light"
     },
     "output_type": "display_data"
    }
   ],
   "source": [
    "# Standardize features\n",
    "X_std = StandardScaler().fit_transform(X)\n",
    "\n",
    "# Plot data\n",
    "plt.scatter(X_std, y, s=20)\n",
    "plt.show()"
   ]
  },
  {
   "cell_type": "code",
   "execution_count": 19,
   "id": "4a2b214d-1ac6-44ad-8c12-a3ce64d81b5f",
   "metadata": {},
   "outputs": [
    {
     "data": {
      "text/plain": [
       "(7.105427357601002e-17, 0.9999999999999999)"
      ]
     },
     "execution_count": 19,
     "metadata": {},
     "output_type": "execute_result"
    }
   ],
   "source": [
    "# Show mean and standard derivation\n",
    "X_std.mean(), X_std.std()"
   ]
  },
  {
   "cell_type": "markdown",
   "id": "699a42dc-0c8a-4c2f-bf96-636db0dd06ef",
   "metadata": {},
   "source": [
    "### Normal equation\n",
    "\n",
    "If we say that $\\theta_0 := b$ and $\\theta_1 := w$ and say that $\\hat{X}_1 := \\vec{1}$ and $\\hat{X}_1 = X$, where $\\hat{X}_i$ is the $i$-th column of $\\hat{X}$, then we can derive normal equation or closed form for linear regression which is given by\n",
    "\n",
    "$$\n",
    "    \\theta = (\\hat{X}^T \\hat{X})^{-1} \\hat{X}^{T} y.\n",
    "$$\n",
    "\n"
   ]
  },
  {
   "cell_type": "code",
   "execution_count": 20,
   "id": "922a6e04-301d-4e9c-b08f-8a26bd159191",
   "metadata": {},
   "outputs": [],
   "source": [
    "def normal_equation(X, y):\n",
    "    \"\"\"Normal equation for linear regression.\n",
    "    \n",
    "    Parameter\n",
    "    ---------\n",
    "        X : ndarray of shape (n_samples, n_features)\n",
    "            Features.\n",
    "        y : ndarray of shape (n_samples,)\n",
    "            Labels.\n",
    "    \n",
    "    Return:\n",
    "    -------\n",
    "        theta : ndarray of shape (n_features + 1,)\n",
    "            Weight(s) and bias.\n",
    "    \"\"\"\n",
    "    X_hat = np.column_stack([np.ones(X.shape[0]), X])\n",
    "    X_hat_trans = np.transpose(X_hat)\n",
    "    result = np.linalg.inv(np.dot(X_hat_trans, X_hat))\n",
    "    result = np.dot(np.dot(result, X_hat_trans), y)\n",
    "    return result"
   ]
  },
  {
   "cell_type": "code",
   "execution_count": 21,
   "id": "57baf113-1dcd-4c41-9840-29a4d3e03ee1",
   "metadata": {},
   "outputs": [
    {
     "data": {
      "text/plain": [
       "(44.25911111918541, -0.7229410334791733)"
      ]
     },
     "execution_count": 21,
     "metadata": {},
     "output_type": "execute_result"
    }
   ],
   "source": [
    "# Apply the normal equation\n",
    "theta = normal_equation(X_train, y_train)\n",
    "w, b = theta[1], theta[0]\n",
    "w, b"
   ]
  },
  {
   "cell_type": "code",
   "execution_count": 22,
   "id": "6b373506-9d3d-4dc3-95ee-90f7f05fb2e2",
   "metadata": {},
   "outputs": [
    {
     "data": {
      "text/plain": [
       "(463.2862910257436, 451.2402377855187)"
      ]
     },
     "execution_count": 22,
     "metadata": {},
     "output_type": "execute_result"
    }
   ],
   "source": [
    "# Compute training and test MSE\n",
    "mse(X_train, y_train, w, b), mse(X_test, y_test, w, b)"
   ]
  },
  {
   "cell_type": "code",
   "execution_count": 23,
   "id": "02842f88-5b3e-4316-ba3e-aeb5df73de1a",
   "metadata": {},
   "outputs": [
    {
     "data": {
      "text/plain": [
       "(0.8115521294829311, 0.7736039420132121)"
      ]
     },
     "execution_count": 23,
     "metadata": {},
     "output_type": "execute_result"
    }
   ],
   "source": [
    "# Compute training and test R2\n",
    "r2(X_train, y_train, w, b), r2(X_test, y_test, w, b)"
   ]
  },
  {
   "cell_type": "code",
   "execution_count": 24,
   "id": "9fe0dc1d-ec17-4a2f-9e2b-348e6fe56c4c",
   "metadata": {},
   "outputs": [
    {
     "data": {
      "image/png": "[encoded data removed]",
      "text/plain": [
       "<Figure size 720x216 with 2 Axes>"
      ]
     },
     "metadata": {
      "needs_background": "light"
     },
     "output_type": "display_data"
    }
   ],
   "source": [
    "# Plot training and test sets and regression lines\n",
    "plot_train_test_reg_line(X_train, X_test, w, b)\n",
    "plt.show()"
   ]
  },
  {
   "cell_type": "markdown",
   "id": "f4215361-e274-444d-b10d-70998f4e5b58",
   "metadata": {},
   "source": [
    "## Polynomial regression"
   ]
  },
  {
   "cell_type": "code",
   "execution_count": 25,
   "id": "e825a924-e7bf-4c3a-b1e4-eb17a4cd2248",
   "metadata": {},
   "outputs": [
    {
     "data": {
      "image/png": "[encoded data removed]",
      "text/plain": [
       "<Figure size 432x288 with 1 Axes>"
      ]
     },
     "metadata": {
      "needs_background": "light"
     },
     "output_type": "display_data"
    }
   ],
   "source": [
    "# Make example regression problem\n",
    "n_samples = 100\n",
    "X = np.linspace(0, 3, n_samples)\n",
    "eps = np.random.normal(0, 1, n_samples)\n",
    "y = np.sin(math.pi * X) + eps\n",
    "X = X.reshape(-1, 1)\n",
    "\n",
    "# Plot datapoints\n",
    "plt.scatter(X, y, s=20)\n",
    "plt.show()"
   ]
  },
  {
   "cell_type": "code",
   "execution_count": 26,
   "id": "eceeb475-3614-46b5-9b52-9e9dab43b813",
   "metadata": {},
   "outputs": [
    {
     "data": {
      "text/plain": [
       "((70, 1), (30, 1), (70,), (30,))"
      ]
     },
     "execution_count": 26,
     "metadata": {},
     "output_type": "execute_result"
    }
   ],
   "source": [
    "# Split data in training and test set\n",
    "X_train, X_test, y_train, y_test = train_test_split(\n",
    "    X, y, test_size=0.3, shuffle=True, random_state=0)\n",
    "X_train.shape, X_test.shape, y_train.shape, y_test.shape"
   ]
  },
  {
   "cell_type": "code",
   "execution_count": 27,
   "id": "d82a11d4-2734-40aa-95cc-7845909e1ebd",
   "metadata": {},
   "outputs": [
    {
     "data": {
      "image/png": "[encoded data removed]",
      "text/plain": [
       "<Figure size 720x216 with 2 Axes>"
      ]
     },
     "metadata": {
      "needs_background": "light"
     },
     "output_type": "display_data"
    }
   ],
   "source": [
    "# Standardize training and test sets\n",
    "scaler = StandardScaler().fit(X_train)\n",
    "X_train = scaler.transform(X_train)\n",
    "X_test = scaler.transform(X_test)\n",
    "\n",
    "# Plot training and test sets\n",
    "plot_train_test(X_train, X_test)\n",
    "plt.show()"
   ]
  },
  {
   "cell_type": "code",
   "execution_count": 28,
   "id": "9d97a63d-97e6-48bd-ab89-ff6e0ce9da47",
   "metadata": {},
   "outputs": [
    {
     "data": {
      "text/plain": [
       "(-0.02918502619038879, 0.21206549513282744)"
      ]
     },
     "execution_count": 28,
     "metadata": {},
     "output_type": "execute_result"
    }
   ],
   "source": [
    "# Apply normal equation\n",
    "theta = normal_equation(X_train, y_train)\n",
    "w, b = theta[1], theta[0]\n",
    "w, b"
   ]
  },
  {
   "cell_type": "code",
   "execution_count": 29,
   "id": "da688937-0428-4995-84b0-c28cc0a7683e",
   "metadata": {},
   "outputs": [
    {
     "data": {
      "image/png": "[encoded data removed]",
      "text/plain": [
       "<Figure size 720x216 with 2 Axes>"
      ]
     },
     "metadata": {
      "needs_background": "light"
     },
     "output_type": "display_data"
    }
   ],
   "source": [
    "# Plot training and test sets and regression lines\n",
    "plot_train_test_reg_line(X_train, X_test, w, b)\n",
    "plt.show()"
   ]
  },
  {
   "cell_type": "code",
   "execution_count": 30,
   "id": "33b8654f-b459-4174-bef1-2d552a1cf1ab",
   "metadata": {},
   "outputs": [
    {
     "data": {
      "text/plain": [
       "(1.0707226217544172, 1.3976157699394938)"
      ]
     },
     "execution_count": 30,
     "metadata": {},
     "output_type": "execute_result"
    }
   ],
   "source": [
    "# Compute training and test MSE\n",
    "mse(X_train, y_train, w, b), mse(X_test, y_test, w, b)"
   ]
  },
  {
   "cell_type": "code",
   "execution_count": 31,
   "id": "45fce59d-cb7e-408f-b86c-3d39539b92f0",
   "metadata": {},
   "outputs": [
    {
     "data": {
      "text/plain": [
       "(0.0007948731918778762, 0.002201711652872418)"
      ]
     },
     "execution_count": 31,
     "metadata": {},
     "output_type": "execute_result"
    }
   ],
   "source": [
    "# Compute training and test R2\n",
    "r2(X_train, y_train, w, b), r2(X_test, y_test, w, b)"
   ]
  },
  {
   "cell_type": "markdown",
   "id": "b08df5e8-a8c7-47cb-b891-72d0b231cd4e",
   "metadata": {},
   "source": [
    "### Hypothesis\n",
    "\n",
    "The hypothesis for (univariate) *polynomial regression* is given by\n",
    "\n",
    "$$\n",
    "    h_{w, b}(x) = \\sum_{i=1}^h w_i x^i + b =  w_1 x + w_2 x^2 + \\dots + w_h x^h + b, \n",
    "$$\n",
    "\n",
    "where $h$ is the degree of the polynomial."
   ]
  },
  {
   "cell_type": "code",
   "execution_count": 32,
   "id": "e867beaa-3900-4a80-854a-4685fc034144",
   "metadata": {},
   "outputs": [
    {
     "data": {
      "text/plain": [
       "array([[0.36914632, 0.13626901],\n",
       "       [1.08693083, 1.18141863],\n",
       "       [1.44582308, 2.09040439],\n",
       "       [0.65626012, 0.43067735],\n",
       "       [0.04614329, 0.0021292 ]])"
      ]
     },
     "execution_count": 32,
     "metadata": {},
     "output_type": "execute_result"
    }
   ],
   "source": [
    "# Create polynomial features\n",
    "poly = PolynomialFeatures(2, include_bias=False).fit(X_train)\n",
    "X_train_poly = poly.transform(X_train)\n",
    "X_test_poly = poly.transform(X_test)\n",
    "\n",
    "# Show some samples\n",
    "X_train_poly[:5]"
   ]
  },
  {
   "cell_type": "code",
   "execution_count": 33,
   "id": "543cacbc-a7e9-40bd-a00c-84f6208da9cb",
   "metadata": {},
   "outputs": [
    {
     "data": {
      "text/plain": [
       "array([ 0.2120655 , -0.02918503])"
      ]
     },
     "execution_count": 33,
     "metadata": {},
     "output_type": "execute_result"
    }
   ],
   "source": [
    "# Train linear regression\n",
    "theta = normal_equation(X_train, y_train)\n",
    "theta"
   ]
  },
  {
   "cell_type": "code",
   "execution_count": 34,
   "id": "531a5272-53fb-4705-9554-cc5b60275c9e",
   "metadata": {},
   "outputs": [],
   "source": [
    "def plot_train_test_reg_curve(X_train, X_test, w, b):\n",
    "    \"\"\"Plot training and test sets and regression curve.\n",
    "        \n",
    "    Parameter\n",
    "    ---------\n",
    "        X_train : ndarray of shape (n_samples, n_features)\n",
    "            Training features.\n",
    "        X_train : ndarray of shape (n_samples, n_features)\n",
    "            Test features.   \n",
    "        w : float\n",
    "            Updated weight.\n",
    "        b : float\n",
    "            Updated bias.\n",
    "    \"\"\"\n",
    "    fig, axs = plot_train_test(X_train, X_test)\n",
    "    for i, iX in enumerate([X_train, X_test]):\n",
    "        xlim = axs[i].get_xlim()\n",
    "        xx = np.linspace(xlim[0], xlim[1], 100).reshape(-1, 1)\n",
    "        xx_poly = poly.transform(xx)\n",
    "        axs[i].plot(xx, hypo(xx_poly, w, b), c='r')"
   ]
  },
  {
   "cell_type": "code",
   "execution_count": 35,
   "id": "7d2c5d66-21ff-4cdd-bb72-7ee759326a4d",
   "metadata": {},
   "outputs": [
    {
     "data": {
      "image/png": "[encoded data removed]",
      "text/plain": [
       "<Figure size 720x216 with 2 Axes>"
      ]
     },
     "metadata": {
      "needs_background": "light"
     },
     "output_type": "display_data"
    }
   ],
   "source": [
    "# Plot training and test sets and regression lines\n",
    "plot_train_test_reg_curve(X_train, X_test, theta[1], theta[0])"
   ]
  },
  {
   "cell_type": "code",
   "execution_count": 36,
   "id": "6a472d2a-5eb7-4918-b98f-3b348695e86b",
   "metadata": {},
   "outputs": [
    {
     "data": {
      "text/plain": [
       "(1.0707226217544172, 1.3976157699394938)"
      ]
     },
     "execution_count": 36,
     "metadata": {},
     "output_type": "execute_result"
    }
   ],
   "source": [
    "# Compute training and test MSE\n",
    "mse(X_train, y_train, w, b), mse(X_test, y_test, w, b)"
   ]
  },
  {
   "cell_type": "code",
   "execution_count": 37,
   "id": "93980a0c-ddef-46ec-b04d-f9ca686104d1",
   "metadata": {},
   "outputs": [
    {
     "data": {
      "text/plain": [
       "(0.0007948731918778762, 0.002201711652872418)"
      ]
     },
     "execution_count": 37,
     "metadata": {},
     "output_type": "execute_result"
    }
   ],
   "source": [
    "# Compute training and test R2\n",
    "r2(X_train, y_train, w, b), r2(X_test, y_test, w, b)"
   ]
  },
  {
   "cell_type": "code",
   "execution_count": 38,
   "id": "4cf9bbb0-c681-4f2b-9945-a5e92e97675e",
   "metadata": {},
   "outputs": [],
   "source": [
    "# Train polynomial regression for increasing polynomial degree\n",
    "degrees = range(1, 10)\n",
    "w_all, b_all = {}, {}\n",
    "for d in degrees:\n",
    "    poly = PolynomialFeatures(d, include_bias=False).fit(X_train)\n",
    "    X_train_poly = poly.transform(X_train)\n",
    "    theta = normal_equation(X_train_poly, y_train)\n",
    "    w_all[d] = theta[1:]\n",
    "    b_all[d] = theta[0]"
   ]
  },
  {
   "cell_type": "code",
   "execution_count": 39,
   "id": "7e80e75c-e717-4d47-96b6-66a61bcbfadc",
   "metadata": {},
   "outputs": [],
   "source": [
    "# Plot data and regression curves\n",
    "def plot_poly(X, y, w_all, b_all, poly, res=100):\n",
    "    plt.scatter(X, y, s=20)\n",
    "    degrees = list(w_all.keys())\n",
    "    colors = plt.cm.rainbow(np.linspace(0, 1, len(degrees)))\n",
    "    XX = np.linspace(X.min(), X.max(), res).reshape(-1, 1)\n",
    "    for d, c in zip(degrees, colors):\n",
    "        poly = PolynomialFeatures(d, include_bias=False).fit(X_train)\n",
    "        yy = hypo(poly.transform(XX), w_all[d], b_all[d])\n",
    "        plt.plot(XX, yy, color=c, label=d, linewidth=1)\n",
    "    plt.legend(bbox_to_anchor=(1,1), loc=\"upper left\")"
   ]
  },
  {
   "cell_type": "code",
   "execution_count": 40,
   "id": "cb4dfab5-18cc-4f99-8c91-98a536c3dece",
   "metadata": {},
   "outputs": [
    {
     "data": {
      "image/png": "[encoded data removed]",
      "text/plain": [
       "<Figure size 432x288 with 1 Axes>"
      ]
     },
     "metadata": {
      "needs_background": "light"
     },
     "output_type": "display_data"
    }
   ],
   "source": [
    "# Plot all polynomal regression curves for the training set\n",
    "plot_poly(X_train, y_train, w_all, b_all, poly)"
   ]
  },
  {
   "cell_type": "code",
   "execution_count": 41,
   "id": "0964def3-a5a6-40e4-95af-b7435df2d707",
   "metadata": {},
   "outputs": [
    {
     "data": {
      "image/png": "[encoded data removed]",
      "text/plain": [
       "<Figure size 432x288 with 1 Axes>"
      ]
     },
     "metadata": {
      "needs_background": "light"
     },
     "output_type": "display_data"
    }
   ],
   "source": [
    "# Plot all polynomal regression curves for the test set\n",
    "plot_poly(X_test, y_test, w_all, b_all, poly)"
   ]
  },
  {
   "cell_type": "code",
   "execution_count": 42,
   "id": "2381b8c5-fa14-4be0-8298-bc68bba91cff",
   "metadata": {},
   "outputs": [],
   "source": [
    "def plot_train_test_poly_mse(X_train, X_test, y_train, y_test, w_all, b_all):\n",
    "    \"\"\"Plot training and test MSE trends for increasing polynomial degrees side\n",
    "    by side.\n",
    "        \n",
    "    Parameter\n",
    "    ---------\n",
    "        X_train : ndarray of shape (n_samples, n_features)\n",
    "            Training features.\n",
    "        X_train : ndarray of shape (n_samples, n_features)\n",
    "            Test features.   \n",
    "        y_train : ndarray of shape (n_samples,)\n",
    "            Training labels.\n",
    "        y_test : ndarray of shape (n_samples,)\n",
    "            Test labels.\n",
    "        w_all : dict\n",
    "            Weights for all polynomial degrees.\n",
    "        b_all : dict\n",
    "            Biases for all polynomial degrees.\n",
    "    \"\"\"\n",
    "    mse_train, mse_test = [], []\n",
    "    for d in list(w_all.keys()):\n",
    "        poly = PolynomialFeatures(d, include_bias=False)\n",
    "        y_train_pred = hypo(poly.fit_transform(X_train), w_all[d], b_all[d])\n",
    "        y_test_pred = hypo(poly.fit_transform(X_test), w_all[d], b_all[d])\n",
    "        mse_train.append(mean_squared_error(y_train, y_train_pred))\n",
    "        mse_test.append(mean_squared_error(y_test, y_test_pred))\n",
    "\n",
    "\n",
    "    fig, axs = plt.subplots(nrows=1, ncols=2, figsize=(8.5, 3))\n",
    "    axs[0].set(title=\"Training\", xlabel=\"Polynomial degree\", ylabel=\"MSE\")\n",
    "    axs[1].set(title=\"Test\", xlabel=\"Polynomial degree\", ylabel=\"MSE\")\n",
    "    axs[0].plot(degrees, mse_train)\n",
    "    axs[1].plot(degrees, mse_test)\n",
    "    fig.tight_layout()\n",
    "    plt.show()"
   ]
  },
  {
   "cell_type": "code",
   "execution_count": 43,
   "id": "0f319ad5-c79e-4c26-b562-b085914973b9",
   "metadata": {},
   "outputs": [
    {
     "data": {
      "image/png": "[encoded data removed]",
      "text/plain": [
       "<Figure size 612x216 with 2 Axes>"
      ]
     },
     "metadata": {
      "needs_background": "light"
     },
     "output_type": "display_data"
    }
   ],
   "source": [
    "# Plot training and test MSE trends for increasing polynomial degrees\n",
    "plot_train_test_poly_mse(X_train, X_test, y_train, y_test, w_all, b_all)"
   ]
  },
  {
   "cell_type": "markdown",
   "id": "c5843417-7030-43d2-8b47-423741fdf4a5",
   "metadata": {},
   "source": [
    "### Bias-variance trade-off\n",
    "\n",
    "<table><tr>\n",
    "<td> <img src=https://miro.medium.com/max/700/1*On4Uk9Favg50ylBOak-ECQ@2x.png alt=\"bias-and-variance\" heigth=\"100\"/> <td>\n",
    "<td> <img src=https://miro.medium.com/max/700/1*nSpgb17nJWOUSzKzXI3ilw@2x.png alt=\"bias-variance-total-error.jpg\" heigth=\"100\"/> <td>\n",
    "</tr></table>"
   ]
  },
  {
   "cell_type": "markdown",
   "id": "88d2e0cc-78f4-4a85-8da7-f87dedfd96fe",
   "metadata": {},
   "source": [
    "## Regularized regression\n",
    "\n",
    "### Hypothesis\n",
    "\n",
    "The hypothesis for (univariate) *regularized regression* is given by\n",
    "\n",
    "$$\n",
    "    h_{w, b}(x) = w x + b + \\alpha \\|w\\|.\n",
    "$$\n",
    "\n",
    "If we add polynomial features, the hypothesis becomes\n",
    "\n",
    "$$\n",
    "    h_{w, b}(x) = \\sum_{i=1}^h w_i x^i + b + \\alpha \\|w\\| =  w_1 x + w_2 x^2 + \\dots + w_h x^h + b + \\alpha \\|w\\|, \n",
    "$$\n",
    "\n",
    "where $h$ is the degree of the polynomial."
   ]
  },
  {
   "cell_type": "markdown",
   "id": "607c10d1-1482-4a9c-a045-6e8f4f271e0c",
   "metadata": {},
   "source": [
    "### Normal equation\n",
    "\n",
    "The normal equation for *regularized regression* is given by\n",
    "\n",
    "$$\n",
    "    \\theta = ( \\hat{X}^T \\hat{X} + \\alpha \\cdot L )^{-1} \\hat{X}^{T} y,\n",
    "$$\n",
    "\n",
    "with\n",
    "\n",
    "$$\n",
    "    L = \\begin{bmatrix} \n",
    "        0 & 0  & \\dots & 0 \\\\\n",
    "        0 & 1  & \\dots & 0 \\\\\n",
    "        \\vdots & \\vdots & \\ddots & \\vdots \\\\\n",
    "        0 & 0  & \\dots & 1 \\\\\n",
    "        \\end{bmatrix} \\in \\mathbb{Z}_2^{(n+1) \\times (n+1)},\n",
    "$$\n",
    "\n",
    "where $\\mathbb{Z}_2 = \\{0, 1\\}$."
   ]
  },
  {
   "cell_type": "code",
   "execution_count": 44,
   "id": "7331d946-9f18-48bc-8459-38b80f772286",
   "metadata": {},
   "outputs": [],
   "source": [
    "def normal_equation_regularized(X, y, alpha):\n",
    "    \"\"\"Normal equation for regularized regression.\n",
    "    \n",
    "    Parameter\n",
    "    ---------\n",
    "        X : ndarray of shape (n_samples, n_features)\n",
    "            Features.\n",
    "        y : ndarray of shape (n_samples,)\n",
    "            Labels.\n",
    "        alpha : float\n",
    "            Regularization stength. Smaller values yield to stronger\n",
    "            regularization and vice versa.\n",
    "    \n",
    "    Return:\n",
    "    -------\n",
    "        theta : ndarray of shape (n_features + 1,)\n",
    "            Weight(s) and bias.\n",
    "    \"\"\"\n",
    "    L = np.zeros((X.shape[1] + 1, X.shape[1] + 1))\n",
    "    np.fill_diagonal(L, 1)\n",
    "    L[0, 0] = 0\n",
    "    X_hat = np.column_stack([np.ones(X.shape[0]), X])\n",
    "    X_hat_trans = np.transpose(X_hat)\n",
    "    result = np.linalg.inv(np.dot(X_hat_trans, X_hat) + alpha * L)\n",
    "    result = np.dot(np.dot(result, X_hat_trans), y)\n",
    "    return result"
   ]
  },
  {
   "cell_type": "code",
   "execution_count": 45,
   "id": "7d10534e-67d0-4ebc-978e-ea7d07b5f043",
   "metadata": {},
   "outputs": [
    {
     "data": {
      "text/plain": [
       "(-0.028773969483481914, 0.21206549513282744)"
      ]
     },
     "execution_count": 45,
     "metadata": {},
     "output_type": "execute_result"
    }
   ],
   "source": [
    "# Apply the normal equation\n",
    "theta = normal_equation_regularized(X_train, y_train, 1.0)\n",
    "w, b = theta[1], theta[0]\n",
    "w, b"
   ]
  },
  {
   "cell_type": "code",
   "execution_count": 46,
   "id": "79ae507c-95d7-4526-b9a1-904f66e574be",
   "metadata": {},
   "outputs": [],
   "source": [
    "# Train polynomial regression for increasing polynomial degree\n",
    "degrees = range(1, 10)\n",
    "w_all, b_all = {}, {}\n",
    "for d in degrees:\n",
    "    poly = PolynomialFeatures(d, include_bias=False).fit(X_train)\n",
    "    X_train_poly = poly.transform(X_train)\n",
    "    theta = normal_equation_regularized(X_train_poly, y_train, 100)\n",
    "    w_all[d] = theta[1:]\n",
    "    b_all[d] = theta[0]"
   ]
  },
  {
   "cell_type": "code",
   "execution_count": 47,
   "id": "8716f4f8-73e9-4fbc-980d-b3033484b310",
   "metadata": {},
   "outputs": [
    {
     "data": {
      "image/png": "[encoded data removed]",
      "text/plain": [
       "<Figure size 432x288 with 1 Axes>"
      ]
     },
     "metadata": {
      "needs_background": "light"
     },
     "output_type": "display_data"
    }
   ],
   "source": [
    "# Plot all polynomal regression curves\n",
    "plot_poly(X_train, y_train, w_all, b_all, poly)"
   ]
  },
  {
   "cell_type": "code",
   "execution_count": 48,
   "id": "9106a3e1-1715-4e28-88a1-f4b85e253b78",
   "metadata": {},
   "outputs": [
    {
     "data": {
      "image/png": "[encoded data removed]",
      "text/plain": [
       "<Figure size 612x216 with 2 Axes>"
      ]
     },
     "metadata": {
      "needs_background": "light"
     },
     "output_type": "display_data"
    }
   ],
   "source": [
    "# Plot training and test MSE trends for increasing polynomial degrees\n",
    "plot_train_test_poly_mse(X_train, X_test, y_train, y_test, w_all, b_all)"
   ]
  },
  {
   "cell_type": "markdown",
   "id": "509634de-9e91-495e-b29e-f04533ef4015",
   "metadata": {},
   "source": [
    "### Types of regularization"
   ]
  },
  {
   "cell_type": "markdown",
   "id": "340d17ac-dc7b-4df0-be65-526280418a43",
   "metadata": {},
   "source": [
    "When using the $L2$ norm the resulting method is called *Ridge regression* and when using the $L1$ norm it is called *Lasso regression*.\n",
    "\n",
    "![Alt text](https://miro.medium.com/max/722/1*GSQfWiZolZzSJfGTRaDnMg.png \"\")\n",
    "\n",
    "Using $L2$ and $L1$ norm together is called *Elastic net regression*."
   ]
  },
  {
   "cell_type": "code",
   "execution_count": null,
   "id": "33d1eda4-6621-44e3-b7f2-6f3cb4721cde",
   "metadata": {},
   "outputs": [],
   "source": []
  }
 ],
 "metadata": {
  "kernelspec": {
   "display_name": "Python 3 (ipykernel)",
   "language": "python",
   "name": "python3"
  },
  "language_info": {
   "codemirror_mode": {
    "name": "ipython",
    "version": 3
   },
   "file_extension": ".py",
   "mimetype": "text/x-python",
   "name": "python",
   "nbconvert_exporter": "python",
   "pygments_lexer": "ipython3",
   "version": "3.8.10"
  }
 },
 "nbformat": 4,
 "nbformat_minor": 5
}
