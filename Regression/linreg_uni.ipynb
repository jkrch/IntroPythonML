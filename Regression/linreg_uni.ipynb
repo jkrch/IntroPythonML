{
 "cells": [
  {
   "cell_type": "code",
   "execution_count": 1,
   "id": "6dcc1825-3e2b-460b-b252-3c9c7a72c4ea",
   "metadata": {},
   "outputs": [],
   "source": [
    "%matplotlib inline\n",
    "\n",
    "import matplotlib.pyplot as plt\n",
    "import numpy as np\n",
    "import pandas as pd \n",
    "from sklearn.datasets import load_boston\n",
    "from sklearn.model_selection import train_test_split\n",
    "from sklearn.linear_model import LinearRegression\n",
    "from sklearn.metrics import mean_squared_error, r2_score"
   ]
  },
  {
   "cell_type": "code",
   "execution_count": 2,
   "id": "186c2bc4-a5af-4618-b687-faaeb4da41bf",
   "metadata": {},
   "outputs": [],
   "source": [
    "# Adjust size of plots\n",
    "plt.rcParams['figure.figsize'] = [6, 4]"
   ]
  },
  {
   "cell_type": "markdown",
   "id": "57dac63f-7f63-4e29-b0e4-80c4e21aa6ee",
   "metadata": {},
   "source": [
    "# Univariate Regression\n",
    "\n",
    "## Notation\n",
    "\n",
    "We have a given dataset \n",
    "\n",
    "$$\n",
    "    (x,y) \\in \\mathbb{R}^{m \\times 2},\n",
    "$$\n",
    "\n",
    "with $m$ the number of samples.\n",
    "\n",
    "In the dateset we have the features \n",
    "\n",
    "$$\n",
    "    x \\in \\mathbb{R}^m\n",
    "$$ \n",
    "\n",
    "and the targets \n",
    "\n",
    "$$\n",
    "    y \\in \\mathbb{R}^m.\n",
    "$$\n",
    "\n",
    "We say\n",
    "\n",
    "$$\n",
    "    (x^{(i)}, y^{(i)}) \\in \\mathbb{R}^{1 \\times 2}\n",
    "$$\n",
    "\n",
    "is the $i$-th example $(i = 1, \\dots, m)$."
   ]
  },
  {
   "cell_type": "markdown",
   "id": "7cd6ac51-d897-4943-b39b-7e5d9e1d04b0",
   "metadata": {},
   "source": [
    "## Boston dataset"
   ]
  },
  {
   "cell_type": "code",
   "execution_count": 3,
   "id": "c0283090-8d85-48c8-aab7-d8d78d3ab715",
   "metadata": {},
   "outputs": [
    {
     "data": {
      "text/html": [
       "<div>\n",
       "<style scoped>\n",
       "    .dataframe tbody tr th:only-of-type {\n",
       "        vertical-align: middle;\n",
       "    }\n",
       "\n",
       "    .dataframe tbody tr th {\n",
       "        vertical-align: top;\n",
       "    }\n",
       "\n",
       "    .dataframe thead th {\n",
       "        text-align: right;\n",
       "    }\n",
       "</style>\n",
       "<table border=\"1\" class=\"dataframe\">\n",
       "  <thead>\n",
       "    <tr style=\"text-align: right;\">\n",
       "      <th></th>\n",
       "      <th>CRIM</th>\n",
       "      <th>ZN</th>\n",
       "      <th>INDUS</th>\n",
       "      <th>CHAS</th>\n",
       "      <th>NOX</th>\n",
       "      <th>RM</th>\n",
       "      <th>AGE</th>\n",
       "      <th>DIS</th>\n",
       "      <th>RAD</th>\n",
       "      <th>TAX</th>\n",
       "      <th>PTRATIO</th>\n",
       "      <th>B</th>\n",
       "      <th>LSTAT</th>\n",
       "      <th>Target</th>\n",
       "    </tr>\n",
       "  </thead>\n",
       "  <tbody>\n",
       "    <tr>\n",
       "      <th>501</th>\n",
       "      <td>0.06263</td>\n",
       "      <td>0.0</td>\n",
       "      <td>11.93</td>\n",
       "      <td>0.0</td>\n",
       "      <td>0.573</td>\n",
       "      <td>6.593</td>\n",
       "      <td>69.1</td>\n",
       "      <td>2.4786</td>\n",
       "      <td>1.0</td>\n",
       "      <td>273.0</td>\n",
       "      <td>21.0</td>\n",
       "      <td>391.99</td>\n",
       "      <td>9.67</td>\n",
       "      <td>22.4</td>\n",
       "    </tr>\n",
       "    <tr>\n",
       "      <th>502</th>\n",
       "      <td>0.04527</td>\n",
       "      <td>0.0</td>\n",
       "      <td>11.93</td>\n",
       "      <td>0.0</td>\n",
       "      <td>0.573</td>\n",
       "      <td>6.120</td>\n",
       "      <td>76.7</td>\n",
       "      <td>2.2875</td>\n",
       "      <td>1.0</td>\n",
       "      <td>273.0</td>\n",
       "      <td>21.0</td>\n",
       "      <td>396.90</td>\n",
       "      <td>9.08</td>\n",
       "      <td>20.6</td>\n",
       "    </tr>\n",
       "    <tr>\n",
       "      <th>503</th>\n",
       "      <td>0.06076</td>\n",
       "      <td>0.0</td>\n",
       "      <td>11.93</td>\n",
       "      <td>0.0</td>\n",
       "      <td>0.573</td>\n",
       "      <td>6.976</td>\n",
       "      <td>91.0</td>\n",
       "      <td>2.1675</td>\n",
       "      <td>1.0</td>\n",
       "      <td>273.0</td>\n",
       "      <td>21.0</td>\n",
       "      <td>396.90</td>\n",
       "      <td>5.64</td>\n",
       "      <td>23.9</td>\n",
       "    </tr>\n",
       "    <tr>\n",
       "      <th>504</th>\n",
       "      <td>0.10959</td>\n",
       "      <td>0.0</td>\n",
       "      <td>11.93</td>\n",
       "      <td>0.0</td>\n",
       "      <td>0.573</td>\n",
       "      <td>6.794</td>\n",
       "      <td>89.3</td>\n",
       "      <td>2.3889</td>\n",
       "      <td>1.0</td>\n",
       "      <td>273.0</td>\n",
       "      <td>21.0</td>\n",
       "      <td>393.45</td>\n",
       "      <td>6.48</td>\n",
       "      <td>22.0</td>\n",
       "    </tr>\n",
       "    <tr>\n",
       "      <th>505</th>\n",
       "      <td>0.04741</td>\n",
       "      <td>0.0</td>\n",
       "      <td>11.93</td>\n",
       "      <td>0.0</td>\n",
       "      <td>0.573</td>\n",
       "      <td>6.030</td>\n",
       "      <td>80.8</td>\n",
       "      <td>2.5050</td>\n",
       "      <td>1.0</td>\n",
       "      <td>273.0</td>\n",
       "      <td>21.0</td>\n",
       "      <td>396.90</td>\n",
       "      <td>7.88</td>\n",
       "      <td>11.9</td>\n",
       "    </tr>\n",
       "  </tbody>\n",
       "</table>\n",
       "</div>"
      ],
      "text/plain": [
       "        CRIM   ZN  INDUS  CHAS    NOX     RM   AGE     DIS  RAD    TAX  \\\n",
       "501  0.06263  0.0  11.93   0.0  0.573  6.593  69.1  2.4786  1.0  273.0   \n",
       "502  0.04527  0.0  11.93   0.0  0.573  6.120  76.7  2.2875  1.0  273.0   \n",
       "503  0.06076  0.0  11.93   0.0  0.573  6.976  91.0  2.1675  1.0  273.0   \n",
       "504  0.10959  0.0  11.93   0.0  0.573  6.794  89.3  2.3889  1.0  273.0   \n",
       "505  0.04741  0.0  11.93   0.0  0.573  6.030  80.8  2.5050  1.0  273.0   \n",
       "\n",
       "     PTRATIO       B  LSTAT  Target  \n",
       "501     21.0  391.99   9.67    22.4  \n",
       "502     21.0  396.90   9.08    20.6  \n",
       "503     21.0  396.90   5.64    23.9  \n",
       "504     21.0  393.45   6.48    22.0  \n",
       "505     21.0  396.90   7.88    11.9  "
      ]
     },
     "execution_count": 3,
     "metadata": {},
     "output_type": "execute_result"
    }
   ],
   "source": [
    "# Load dataset\n",
    "data = load_boston()\n",
    "\n",
    "# Create dataframe\n",
    "df = pd.DataFrame(data.data, columns=data.feature_names)\n",
    "df['Target'] = data.target\n",
    "df.tail()"
   ]
  },
  {
   "cell_type": "code",
   "execution_count": 4,
   "id": "b61d9a40-67cc-455a-8f76-2af18d458968",
   "metadata": {},
   "outputs": [
    {
     "data": {
      "text/plain": [
       "Text(0, 0.5, 'Target')"
      ]
     },
     "execution_count": 4,
     "metadata": {},
     "output_type": "execute_result"
    },
    {
     "data": {
      "image/png": "[encoded data removed]",
      "text/plain": [
       "<Figure size 432x288 with 1 Axes>"
      ]
     },
     "metadata": {
      "needs_background": "light"
     },
     "output_type": "display_data"
    }
   ],
   "source": [
    "# Define feature index\n",
    "feat_idx = 12\n",
    "\n",
    "# Split data table into data X and class labels y\n",
    "X = df.iloc[:, feat_idx].values.reshape(-1, 1)\n",
    "y = df.iloc[:, -1].values\n",
    "\n",
    "# Set names of labels for plot\n",
    "xlabel = df.columns[feat_idx]\n",
    "ylabel = df.columns[-1]\n",
    "\n",
    "# Plot data\n",
    "plt.scatter(X, y)\n",
    "plt.xlabel(xlabel)\n",
    "plt.ylabel(ylabel)"
   ]
  },
  {
   "cell_type": "code",
   "execution_count": 5,
   "id": "ef6cd4b7-b731-4964-b3e4-8fedb34c24fc",
   "metadata": {},
   "outputs": [
    {
     "data": {
      "text/plain": [
       "((354, 1), (152, 1), (354,), (152,))"
      ]
     },
     "execution_count": 5,
     "metadata": {},
     "output_type": "execute_result"
    }
   ],
   "source": [
    "# Split data in training and test set\n",
    "X_train, X_test, y_train, y_test = train_test_split(\n",
    "    X, y, test_size = 0.3, shuffle=False)\n",
    "X_train.shape, X_test.shape, y_train.shape, y_test.shape"
   ]
  },
  {
   "cell_type": "code",
   "execution_count": 6,
   "id": "37483526-3756-40b8-9160-87e1aeb3a16a",
   "metadata": {},
   "outputs": [
    {
     "data": {
      "text/plain": [
       "Text(0, 0.5, 'Target')"
      ]
     },
     "execution_count": 6,
     "metadata": {},
     "output_type": "execute_result"
    },
    {
     "data": {
      "image/png": "[encoded data removed]",
      "text/plain": [
       "<Figure size 432x288 with 1 Axes>"
      ]
     },
     "metadata": {
      "needs_background": "light"
     },
     "output_type": "display_data"
    }
   ],
   "source": [
    "# Plot training data\n",
    "plt.scatter(X_train, y_train)\n",
    "plt.xlabel(xlabel)\n",
    "plt.ylabel(ylabel)"
   ]
  },
  {
   "cell_type": "code",
   "execution_count": 7,
   "id": "9dc4fcd7-fe20-4c06-8fd8-e362ae3cf1c6",
   "metadata": {},
   "outputs": [
    {
     "data": {
      "text/plain": [
       "Text(0, 0.5, 'Target')"
      ]
     },
     "execution_count": 7,
     "metadata": {},
     "output_type": "execute_result"
    },
    {
     "data": {
      "image/png": "[encoded data removed]",
      "text/plain": [
       "<Figure size 432x288 with 1 Axes>"
      ]
     },
     "metadata": {
      "needs_background": "light"
     },
     "output_type": "display_data"
    }
   ],
   "source": [
    "# Plot test data\n",
    "plt.scatter(X_test, y_test)\n",
    "plt.xlabel(xlabel)\n",
    "plt.ylabel(ylabel)"
   ]
  },
  {
   "cell_type": "markdown",
   "id": "cd4e40a1-4a0e-4c55-8fd1-8372d5e18a9d",
   "metadata": {},
   "source": [
    "## Custom implementation\n",
    "\n",
    "### Hypothesis\n",
    "\n",
    "The hypothesis is given by\n",
    "\n",
    "$$\n",
    "    h_{w, b}(x) = w x + b, \n",
    "$$\n",
    "\n",
    "where $w \\in \\mathbb{R}$ is the weight (coefficent) and $b \\in \\mathbb{R}$ is the bias (intercept).\n",
    "\n",
    "We can also write\n",
    "\n",
    "$$\n",
    "    h_{w}(x) = \\sum_{j=1}^2 w_j x =  w_0 + w_1 x,\n",
    "$$\n",
    "\n",
    "if we set $w_1 := w$ and $w_0 := b$ and $x_0 := 1$."
   ]
  },
  {
   "cell_type": "code",
   "execution_count": 8,
   "id": "e73e0fbd-2ba5-4a3c-a2ee-d8969c0a41d9",
   "metadata": {},
   "outputs": [],
   "source": [
    "# Compute the hypothesis and return as shape (n_samples,)\n",
    "hypo = lambda X, w, b: (w * X + b).reshape(len(X))"
   ]
  },
  {
   "cell_type": "markdown",
   "id": "317c0b6f-e608-4873-8f14-d47a00766017",
   "metadata": {},
   "source": [
    "### Cost function\n",
    "\n",
    "The Mean Squared Error is given by\n",
    "\n",
    "$$\n",
    "\\begin{align*}\n",
    "    MSE(w,b) &= \\frac{1}{m} \\sum\\limits_{i=1}^m (y^{(i)} - h_{w,b}(x^{(i)}))^2\\\\\n",
    "             &= \\frac{1}{m} \\sum\\limits_{i=1}^m (y^{(i)} - (w x^{(i)} + b))^2 ,\n",
    "\\end{align*}\n",
    "$$\n",
    "\n",
    "where $m$ is the number of samples."
   ]
  },
  {
   "cell_type": "code",
   "execution_count": 9,
   "id": "7cec6c46-b8bd-4a75-b1ea-2d3375803f30",
   "metadata": {},
   "outputs": [],
   "source": [
    "# Compute the cost function (mean squared error)\n",
    "mse = lambda X, y, w, b: np.mean(np.square(y - hypo(X, w, b)))"
   ]
  },
  {
   "cell_type": "markdown",
   "id": "4a1c0ed5-9bac-4bc2-8cb9-e9da533722e4",
   "metadata": {},
   "source": [
    "## Gradient Descent\n",
    "\n",
    "### Goal: \n",
    "\n",
    "$$\n",
    "    \\underset{w \\in \\mathbb{R}, ~ b \\in \\mathbb{R}}{\\textbf{minimize}} MSE(w,b)\n",
    "$$\n",
    "\n",
    "### Idea: \n",
    "\n",
    "$$\n",
    "\\begin{align*}\n",
    "    w &= w - \\alpha \\cdot \\frac{\\partial}{\\partial w} MSE(w,b) \\\\\n",
    "    b &= b - \\alpha \\cdot \\frac{\\partial}{\\partial b} MSE(w,b)\n",
    "\\end{align*}\n",
    "$$\n",
    "\n",
    "### Partial derivaties:\n",
    "\n",
    "$$\n",
    "\\begin{align*}\n",
    "    \\frac{\\partial}{\\partial w} MSE(w,b) &= \\frac{2}{m} \\sum\\limits_{i=1}^m x^{(i)} (y^{(i)} - h_{w,b}(x^{(i)})) \\\\\n",
    "    \\frac{\\partial}{\\partial b} MSE(w,b) &= \\frac{2}{m} \\sum\\limits_{i=1}^m y^{(i)} - h_{w,b}(x^{(i)})\n",
    "\\end{align*}\n",
    "$$"
   ]
  },
  {
   "cell_type": "code",
   "execution_count": 10,
   "id": "68871bf6-ab9e-449c-a993-6446bf61ef9f",
   "metadata": {},
   "outputs": [],
   "source": [
    "def gradient_descent(X, y, w, b, alpha, num_iters):  \n",
    "    \"\"\"Simple gradient descent.\n",
    "    \n",
    "    TODO: Plot.\n",
    "    \n",
    "    Parameter\n",
    "    ---------\n",
    "        X : ndarray of shpae (n_samples, n_features)\n",
    "            Input data.\n",
    "        y : ndarray of shape (n_samples,)\n",
    "            Labels.\n",
    "        w : float\n",
    "            Weight.\n",
    "        b : float\n",
    "            Bias.\n",
    "    \n",
    "    Return\n",
    "    ------\n",
    "        w : float\n",
    "            Updated weight.\n",
    "        b : float\n",
    "            Updated bias.\n",
    "    \"\"\"\n",
    "    # Number of samples\n",
    "    m = len(X)\n",
    "    \n",
    "    # Iteratively update the weight and bias\n",
    "    for i in range(0, num_iters):\n",
    "        \n",
    "        # Compute predictions (for all samples)\n",
    "        predictions = hypo(X, w, b)\n",
    "        \n",
    "        # Compute residuals (for all samples)\n",
    "        residuals = predictions - y\n",
    "        \n",
    "        # Compute partial derivitaves \n",
    "        w_gradient = 2 * np.mean(residuals.reshape(-1, 1) * X, axis=0)\n",
    "        b_gradient = 2 * np.mean(residuals)\n",
    "\n",
    "        # Update weigth and bias\n",
    "        w = w - alpha * w_gradient\n",
    "        b = b - alpha * b_gradient\n",
    "        \n",
    "    return w, b"
   ]
  },
  {
   "cell_type": "code",
   "execution_count": 11,
   "id": "c60fa797-37fc-459d-a21c-90134d8e3d20",
   "metadata": {},
   "outputs": [
    {
     "data": {
      "text/plain": [
       "(array([-0.96283978]), 35.040308689538406)"
      ]
     },
     "execution_count": 11,
     "metadata": {},
     "output_type": "execute_result"
    }
   ],
   "source": [
    "# Initialize weight and bias\n",
    "w, b = 0.0, 0.0\n",
    "\n",
    "# Set number of iterations and stepsize alpha\n",
    "num_iters, alpha = 100000, 0.001\n",
    "\n",
    "# Run gradient descent\n",
    "w, b = gradient_descent(X_train, y_train, w, b, alpha,\n",
    "                        num_iters) \n",
    "w, b"
   ]
  },
  {
   "cell_type": "code",
   "execution_count": 12,
   "id": "2cfbccb4-98b0-4e3c-b38f-5610b899af01",
   "metadata": {},
   "outputs": [
    {
     "data": {
      "text/plain": [
       "[<matplotlib.lines.Line2D at 0x7fc2aeb26ca0>]"
      ]
     },
     "execution_count": 12,
     "metadata": {},
     "output_type": "execute_result"
    },
    {
     "data": {
      "image/png": "[encoded data removed]",
      "text/plain": [
       "<Figure size 432x288 with 1 Axes>"
      ]
     },
     "metadata": {
      "needs_background": "light"
     },
     "output_type": "display_data"
    }
   ],
   "source": [
    "# Plot training data\n",
    "plt.scatter(X_train, y_train)\n",
    "plt.xlabel(xlabel)\n",
    "plt.ylabel(ylabel)\n",
    "\n",
    "# Add regression line\n",
    "plt.plot(X_train, hypo(X_train, w, b), color='r')"
   ]
  },
  {
   "cell_type": "code",
   "execution_count": 13,
   "id": "9a599ac3-c24c-4ceb-a83b-92e4b1adb13a",
   "metadata": {},
   "outputs": [
    {
     "data": {
      "text/plain": [
       "39.03229803456594"
      ]
     },
     "execution_count": 13,
     "metadata": {},
     "output_type": "execute_result"
    }
   ],
   "source": [
    "# Compute training MSE\n",
    "mse(X_train, y_train, w, b)"
   ]
  },
  {
   "cell_type": "code",
   "execution_count": 14,
   "id": "d7d8d2dd-661f-499d-ba7b-9b1fb4a8feb0",
   "metadata": {},
   "outputs": [
    {
     "data": {
      "text/plain": [
       "[<matplotlib.lines.Line2D at 0x7fc2aea96be0>]"
      ]
     },
     "execution_count": 14,
     "metadata": {},
     "output_type": "execute_result"
    },
    {
     "data": {
      "image/png": "[encoded data removed]",
      "text/plain": [
       "<Figure size 432x288 with 1 Axes>"
      ]
     },
     "metadata": {
      "needs_background": "light"
     },
     "output_type": "display_data"
    }
   ],
   "source": [
    "# Plot test data\n",
    "plt.scatter(X_test, y_test)\n",
    "plt.xlabel(xlabel)\n",
    "plt.ylabel(ylabel)\n",
    "\n",
    "# Add regression line\n",
    "plt.plot(X_test, hypo(X_test, w, b), color='r')"
   ]
  },
  {
   "cell_type": "code",
   "execution_count": 15,
   "id": "5e2e691e-7816-4272-b3a1-aca3cbc892cd",
   "metadata": {},
   "outputs": [
    {
     "data": {
      "text/plain": [
       "37.58214095688502"
      ]
     },
     "execution_count": 15,
     "metadata": {},
     "output_type": "execute_result"
    }
   ],
   "source": [
    "# Compute test MSE\n",
    "mse(X_test, y_test, w, b)"
   ]
  },
  {
   "cell_type": "markdown",
   "id": "825df4f7-be48-466f-a224-b19e58f43ca5",
   "metadata": {},
   "source": [
    "## $R^2$ score\n",
    "\n",
    "The residual sum of squares is defined by\n",
    "\n",
    "$$\n",
    "    SS_{res} = \\sum_{i=1}^m (y^{(i)} - h_{w,b}(x^{(i)}))^2.\n",
    "$$\n",
    "\n",
    "The total sum of squares is defined by\n",
    "\n",
    "$$\n",
    "    SS_{res} = \\sum_{i=1}^m (y^{(i)} - \\frac{1}{n} \\sum_{i=1}^n y^{(i)})^2.\n",
    "$$\n",
    "\n",
    "The $R^2$ score (or coefficient of determenation) is then defined by\n",
    "\n",
    "$$\n",
    "    R^2 = 1 - {SS_{\\rm res}\\over SS_{\\rm tot}}.\n",
    "$$"
   ]
  },
  {
   "cell_type": "code",
   "execution_count": 16,
   "id": "2fbe4024-0e3d-4890-89a6-f535d74304ee",
   "metadata": {},
   "outputs": [],
   "source": [
    "# Function for residual sum of squares\n",
    "ss_res = lambda X, y, w, b: np.sum(np.square(y - hypo(X, w, b)))\n",
    "\n",
    "# Function for total sum of squares\n",
    "ss_tot = lambda y: np.sum(np.square(y - np.mean(y)))\n",
    "\n",
    "# Function for coefficient of determination aka R^2\n",
    "r2 = lambda X, y, w, b: 1 - ss_res(X, y, w, b) / ss_tot(y)"
   ]
  },
  {
   "cell_type": "code",
   "execution_count": 17,
   "id": "fcf31270-1f15-4685-b544-27471012e28a",
   "metadata": {},
   "outputs": [
    {
     "data": {
      "text/plain": [
       "0.45015027749039993"
      ]
     },
     "execution_count": 17,
     "metadata": {},
     "output_type": "execute_result"
    }
   ],
   "source": [
    "# Compute training R2\n",
    "r2(X_train, y_train, w, b)"
   ]
  },
  {
   "cell_type": "code",
   "execution_count": 18,
   "id": "8e566039-f428-44e9-a041-46bd5442950d",
   "metadata": {},
   "outputs": [
    {
     "data": {
      "text/plain": [
       "0.43354555520866367"
      ]
     },
     "execution_count": 18,
     "metadata": {},
     "output_type": "execute_result"
    }
   ],
   "source": [
    "# Compute test R2\n",
    "r2(X_test, y_test, w, b)"
   ]
  },
  {
   "cell_type": "markdown",
   "id": "4b1b866b-fc05-48a9-9c5b-ecb290f2cd10",
   "metadata": {},
   "source": [
    "## Scikit-learn"
   ]
  },
  {
   "cell_type": "code",
   "execution_count": 19,
   "id": "8a8a3539-3792-45d1-9e4b-cdaa9b8ba071",
   "metadata": {},
   "outputs": [
    {
     "data": {
      "text/plain": [
       "(array([-0.96283978]), 35.04030868954574)"
      ]
     },
     "execution_count": 19,
     "metadata": {},
     "output_type": "execute_result"
    }
   ],
   "source": [
    "# Define scikit-learn linear regression model (wraps least-squares from SciPy)\n",
    "reg = LinearRegression()\n",
    "\n",
    "# Train model\n",
    "reg.fit(X_train, y_train)\n",
    "\n",
    "# Show weight and bias\n",
    "reg.coef_, reg.intercept_"
   ]
  },
  {
   "cell_type": "code",
   "execution_count": 20,
   "id": "bdd5911f-783a-4846-be71-61e4e5005567",
   "metadata": {},
   "outputs": [
    {
     "data": {
      "text/plain": [
       "(39.03229803456594, 0.45015027749039993)"
      ]
     },
     "execution_count": 20,
     "metadata": {},
     "output_type": "execute_result"
    }
   ],
   "source": [
    "# Make training predictions\n",
    "y_pred = reg.predict(X_train)\n",
    "\n",
    "# Show training MSE and R2\n",
    "mean_squared_error(y_train, y_pred), r2_score(y_train, y_pred)"
   ]
  },
  {
   "cell_type": "code",
   "execution_count": 21,
   "id": "211c7cd8-4d70-48df-8cde-172811d1513c",
   "metadata": {},
   "outputs": [
    {
     "data": {
      "text/plain": [
       "(37.582140956888544, 0.4335455552086105)"
      ]
     },
     "execution_count": 21,
     "metadata": {},
     "output_type": "execute_result"
    }
   ],
   "source": [
    "# Make test predictions\n",
    "y_pred = reg.predict(X_test)\n",
    "\n",
    "# Show test MSE and R2\n",
    "mean_squared_error(y_test, y_pred), r2_score(y_test, y_pred)"
   ]
  },
  {
   "cell_type": "code",
   "execution_count": null,
   "id": "8e4fd682-ebc5-4558-94dc-0b2a285fa699",
   "metadata": {},
   "outputs": [],
   "source": []
  }
 ],
 "metadata": {
  "kernelspec": {
   "display_name": "Python 3 (ipykernel)",
   "language": "python",
   "name": "python3"
  },
  "language_info": {
   "codemirror_mode": {
    "name": "ipython",
    "version": 3
   },
   "file_extension": ".py",
   "mimetype": "text/x-python",
   "name": "python",
   "nbconvert_exporter": "python",
   "pygments_lexer": "ipython3",
   "version": "3.8.10"
  }
 },
 "nbformat": 4,
 "nbformat_minor": 5
}
