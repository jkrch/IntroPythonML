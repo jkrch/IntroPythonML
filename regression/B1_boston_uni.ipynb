{
 "cells": [
  {
   "cell_type": "code",
   "execution_count": 10,
   "id": "6dcc1825-3e2b-460b-b252-3c9c7a72c4ea",
   "metadata": {},
   "outputs": [],
   "source": [
    "%matplotlib inline\n",
    "\n",
    "import matplotlib.pyplot as plt\n",
    "import numpy as np\n",
    "import pandas as pd \n",
    "from sklearn.datasets import load_boston\n",
    "from sklearn.model_selection import train_test_split\n",
    "from sklearn.preprocessing import StandardScaler, PolynomialFeatures\n",
    "from sklearn.linear_model import LinearRegression, Ridge\n",
    "from sklearn.metrics import mean_squared_error, r2_score"
   ]
  },
  {
   "cell_type": "code",
   "execution_count": 3,
   "id": "8e4fd682-ebc5-4558-94dc-0b2a285fa699",
   "metadata": {},
   "outputs": [
    {
     "data": {
      "text/html": [
       "<div>\n",
       "<style scoped>\n",
       "    .dataframe tbody tr th:only-of-type {\n",
       "        vertical-align: middle;\n",
       "    }\n",
       "\n",
       "    .dataframe tbody tr th {\n",
       "        vertical-align: top;\n",
       "    }\n",
       "\n",
       "    .dataframe thead th {\n",
       "        text-align: right;\n",
       "    }\n",
       "</style>\n",
       "<table border=\"1\" class=\"dataframe\">\n",
       "  <thead>\n",
       "    <tr style=\"text-align: right;\">\n",
       "      <th></th>\n",
       "      <th>CRIM</th>\n",
       "      <th>ZN</th>\n",
       "      <th>INDUS</th>\n",
       "      <th>CHAS</th>\n",
       "      <th>NOX</th>\n",
       "      <th>RM</th>\n",
       "      <th>AGE</th>\n",
       "      <th>DIS</th>\n",
       "      <th>RAD</th>\n",
       "      <th>TAX</th>\n",
       "      <th>PTRATIO</th>\n",
       "      <th>B</th>\n",
       "      <th>LSTAT</th>\n",
       "      <th>Target</th>\n",
       "    </tr>\n",
       "  </thead>\n",
       "  <tbody>\n",
       "    <tr>\n",
       "      <th>501</th>\n",
       "      <td>0.06263</td>\n",
       "      <td>0.0</td>\n",
       "      <td>11.93</td>\n",
       "      <td>0.0</td>\n",
       "      <td>0.573</td>\n",
       "      <td>6.593</td>\n",
       "      <td>69.1</td>\n",
       "      <td>2.4786</td>\n",
       "      <td>1.0</td>\n",
       "      <td>273.0</td>\n",
       "      <td>21.0</td>\n",
       "      <td>391.99</td>\n",
       "      <td>9.67</td>\n",
       "      <td>22.4</td>\n",
       "    </tr>\n",
       "    <tr>\n",
       "      <th>502</th>\n",
       "      <td>0.04527</td>\n",
       "      <td>0.0</td>\n",
       "      <td>11.93</td>\n",
       "      <td>0.0</td>\n",
       "      <td>0.573</td>\n",
       "      <td>6.120</td>\n",
       "      <td>76.7</td>\n",
       "      <td>2.2875</td>\n",
       "      <td>1.0</td>\n",
       "      <td>273.0</td>\n",
       "      <td>21.0</td>\n",
       "      <td>396.90</td>\n",
       "      <td>9.08</td>\n",
       "      <td>20.6</td>\n",
       "    </tr>\n",
       "    <tr>\n",
       "      <th>503</th>\n",
       "      <td>0.06076</td>\n",
       "      <td>0.0</td>\n",
       "      <td>11.93</td>\n",
       "      <td>0.0</td>\n",
       "      <td>0.573</td>\n",
       "      <td>6.976</td>\n",
       "      <td>91.0</td>\n",
       "      <td>2.1675</td>\n",
       "      <td>1.0</td>\n",
       "      <td>273.0</td>\n",
       "      <td>21.0</td>\n",
       "      <td>396.90</td>\n",
       "      <td>5.64</td>\n",
       "      <td>23.9</td>\n",
       "    </tr>\n",
       "    <tr>\n",
       "      <th>504</th>\n",
       "      <td>0.10959</td>\n",
       "      <td>0.0</td>\n",
       "      <td>11.93</td>\n",
       "      <td>0.0</td>\n",
       "      <td>0.573</td>\n",
       "      <td>6.794</td>\n",
       "      <td>89.3</td>\n",
       "      <td>2.3889</td>\n",
       "      <td>1.0</td>\n",
       "      <td>273.0</td>\n",
       "      <td>21.0</td>\n",
       "      <td>393.45</td>\n",
       "      <td>6.48</td>\n",
       "      <td>22.0</td>\n",
       "    </tr>\n",
       "    <tr>\n",
       "      <th>505</th>\n",
       "      <td>0.04741</td>\n",
       "      <td>0.0</td>\n",
       "      <td>11.93</td>\n",
       "      <td>0.0</td>\n",
       "      <td>0.573</td>\n",
       "      <td>6.030</td>\n",
       "      <td>80.8</td>\n",
       "      <td>2.5050</td>\n",
       "      <td>1.0</td>\n",
       "      <td>273.0</td>\n",
       "      <td>21.0</td>\n",
       "      <td>396.90</td>\n",
       "      <td>7.88</td>\n",
       "      <td>11.9</td>\n",
       "    </tr>\n",
       "  </tbody>\n",
       "</table>\n",
       "</div>"
      ],
      "text/plain": [
       "        CRIM   ZN  INDUS  CHAS    NOX     RM   AGE     DIS  RAD    TAX  \\\n",
       "501  0.06263  0.0  11.93   0.0  0.573  6.593  69.1  2.4786  1.0  273.0   \n",
       "502  0.04527  0.0  11.93   0.0  0.573  6.120  76.7  2.2875  1.0  273.0   \n",
       "503  0.06076  0.0  11.93   0.0  0.573  6.976  91.0  2.1675  1.0  273.0   \n",
       "504  0.10959  0.0  11.93   0.0  0.573  6.794  89.3  2.3889  1.0  273.0   \n",
       "505  0.04741  0.0  11.93   0.0  0.573  6.030  80.8  2.5050  1.0  273.0   \n",
       "\n",
       "     PTRATIO       B  LSTAT  Target  \n",
       "501     21.0  391.99   9.67    22.4  \n",
       "502     21.0  396.90   9.08    20.6  \n",
       "503     21.0  396.90   5.64    23.9  \n",
       "504     21.0  393.45   6.48    22.0  \n",
       "505     21.0  396.90   7.88    11.9  "
      ]
     },
     "execution_count": 3,
     "metadata": {},
     "output_type": "execute_result"
    }
   ],
   "source": [
    "# Load dataset\n",
    "data = load_boston()\n",
    "\n",
    "# Create dataframe\n",
    "df = pd.DataFrame(data.data, columns=data.feature_names)\n",
    "df['Target'] = data.target\n",
    "df.tail()"
   ]
  },
  {
   "cell_type": "code",
   "execution_count": 7,
   "id": "32396a4e-995b-48b8-b4be-d9bb4d5429f5",
   "metadata": {},
   "outputs": [
    {
     "data": {
      "image/png": "[encoded data removed]",
      "text/plain": [
       "<Figure size 432x288 with 1 Axes>"
      ]
     },
     "metadata": {
      "needs_background": "light"
     },
     "output_type": "display_data"
    }
   ],
   "source": [
    "# Split data table into data X and class labels y\n",
    "X = df.iloc[:, :-1].values\n",
    "y = df.iloc[:, -1].values\n",
    "\n",
    "# Select 1 feature\n",
    "idx = 12\n",
    "X = X[:, idx].reshape(-1, 1)\n",
    "\n",
    "# Plot data\n",
    "plt.scatter(X, y, s=20)\n",
    "plt.xlabel(data.feature_names[idx])\n",
    "plt.ylabel(\"Target\")\n",
    "plt.show()"
   ]
  },
  {
   "cell_type": "code",
   "execution_count": 8,
   "id": "69a34e33-d876-4da1-8ef2-7ab72ca98d67",
   "metadata": {},
   "outputs": [
    {
     "data": {
      "text/plain": [
       "((354, 1), (152, 1), (354,), (152,))"
      ]
     },
     "execution_count": 8,
     "metadata": {},
     "output_type": "execute_result"
    }
   ],
   "source": [
    "# Split data in training and test set\n",
    "X_train, X_test, y_train, y_test = train_test_split(\n",
    "    X, y, test_size=0.3, shuffle=True, random_state=0)\n",
    "X_train.shape, X_test.shape, y_train.shape, y_test.shape"
   ]
  },
  {
   "cell_type": "code",
   "execution_count": 11,
   "id": "a5664682-14d7-4ecb-86f6-7c755d395f9a",
   "metadata": {},
   "outputs": [
    {
     "data": {
      "text/plain": [
       "((1.6308360813702865e-17, 1.0), (0.10003754989944, 1.027132047450774))"
      ]
     },
     "execution_count": 11,
     "metadata": {},
     "output_type": "execute_result"
    }
   ],
   "source": [
    "# Standardize features\n",
    "scaler = StandardScaler().fit(X_train)\n",
    "X_train = scaler.transform(X_train)\n",
    "X_test = scaler.transform(X_test)\n",
    "(X_train.mean(), X_train.std()), (X_test.mean(), X_test.std())"
   ]
  },
  {
   "cell_type": "markdown",
   "id": "2f7f15a2-c15f-4977-9e39-d75ebbb7bdb9",
   "metadata": {},
   "source": [
    "## Linear regression"
   ]
  },
  {
   "cell_type": "code",
   "execution_count": null,
   "id": "d5176bc2-c767-4345-bc00-e51dc7a4904d",
   "metadata": {},
   "outputs": [],
   "source": [
    "# Train model\n",
    "reg = LinearRegression().fit(X_train_sel, y_train)\n",
    "\n",
    "# Make train and test predictions\n",
    "y_train_pred = reg.predict(X_train_sel)\n",
    "y_test_pred = reg.predict(X_test_sel)"
   ]
  },
  {
   "cell_type": "code",
   "execution_count": null,
   "id": "83574f08-9b62-460b-8f66-72458bbed930",
   "metadata": {},
   "outputs": [],
   "source": [
    "# Show training and test MSE\n",
    "(mean_squared_error(y_train, y_train_pred),\n",
    " mean_squared_error(y_test,y_test_pred))"
   ]
  },
  {
   "cell_type": "code",
   "execution_count": null,
   "id": "af56481c-6099-45b0-9617-d35a9c3a0122",
   "metadata": {},
   "outputs": [],
   "source": [
    "# Show training and test R2\n",
    "r2_score(y_train, y_train_pred), r2_score(y_test, y_test_pred)"
   ]
  },
  {
   "cell_type": "markdown",
   "id": "31c9aeea-276c-4bdd-9ee7-df49bbffa5e1",
   "metadata": {},
   "source": [
    "## Polynomial regression"
   ]
  },
  {
   "cell_type": "code",
   "execution_count": null,
   "id": "4ff75113-678c-44ed-9ad4-d1aeae05d215",
   "metadata": {},
   "outputs": [],
   "source": [
    "def plot_train_test_poly_mse(X_train, X_test, y_train, y_test, y_train_pred,\n",
    "                             y_test_pred):\n",
    "    \"\"\"Plot training and test MSE trends for multiple regressions side by side.\n",
    "        \n",
    "    Parameter\n",
    "    ---------\n",
    "        X_train : ndarray of shape (n_samples, n_features)\n",
    "            Training features.\n",
    "        X_train : ndarray of shape (n_samples, n_features)\n",
    "            Test features.   \n",
    "        y_train : ndarray of shape (n_samples,)\n",
    "            Training labels.\n",
    "        y_test : ndarray of shape (n_samples,)\n",
    "            Test labels.\n",
    "        y_train_pred : dict\n",
    "            Predicted training labels for all regressions.\n",
    "        y_test_pred : dict\n",
    "            Predicted test labels for all regressions.\n",
    "    \"\"\"\n",
    "    mse_train, mse_test = [], []\n",
    "    degrees = list(y_train_pred.keys())\n",
    "    for d in degrees:\n",
    "        mse_train.append(mean_squared_error(y_train, y_train_pred[d]))\n",
    "        mse_test.append(mean_squared_error(y_test, y_test_pred[d]))\n",
    "    \n",
    "    fig, axs = plt.subplots(nrows=1, ncols=2, figsize=(8.5, 3))\n",
    "    axs[0].set(title=\"Training\", xlabel=\"Polynomial degree\", ylabel=\"MSE\")\n",
    "    axs[1].set(title=\"Test\", xlabel=\"Polynomial degree\", ylabel=\"MSE\")\n",
    "    axs[0].plot(degrees, mse_train)\n",
    "    axs[1].plot(degrees, mse_test)\n",
    "    fig.tight_layout()\n",
    "    plt.show()"
   ]
  },
  {
   "cell_type": "code",
   "execution_count": null,
   "id": "5bcfcee8-7faf-4f61-b1c3-397d77cce3d2",
   "metadata": {},
   "outputs": [],
   "source": [
    "def train_test_pred_poly(X_train, X_test, y_train, y_test, max_degree, model):\n",
    "    \"\"\"Compute train and test predictions for increasing polynomial degree.\n",
    "    \n",
    "    Parameter\n",
    "    ---------\n",
    "        X_train : ndarray of shape (n_samples, n_features)\n",
    "            Training features.\n",
    "        X_train : ndarray of shape (n_samples, n_features)\n",
    "            Test features.   \n",
    "        y_train : ndarray of shape (n_samples,)\n",
    "            Training labels.\n",
    "        y_test : ndarray of shape (n_samples,)\n",
    "            Test labels.\n",
    "        max_degree : int\n",
    "            Maximum polynomial degree.\n",
    "        model\n",
    "            Regression model.\n",
    "            \n",
    "    Return\n",
    "    ------\n",
    "        y_train_pred : dict\n",
    "            Predicted training labels for all regressions.\n",
    "        y_test_pred : dict\n",
    "            Predicted test labels for all regressions.\n",
    "    \"\"\"\n",
    "    y_train_pred, y_test_pred = {}, {}\n",
    "    for d in range(1, max_degree + 1):\n",
    "        poly = PolynomialFeatures(degree=d, include_bias=False).fit(X_train_sel)\n",
    "        X_train_poly = poly.transform(X_train_sel)\n",
    "        X_test_poly = poly.transform(X_test_sel)\n",
    "        model.fit(X_train_poly, y_train)\n",
    "        y_train_pred[d] = model.predict(X_train_poly)\n",
    "        y_test_pred[d] = model.predict(X_test_poly)\n",
    "    return y_train_pred, y_test_pred"
   ]
  },
  {
   "cell_type": "code",
   "execution_count": null,
   "id": "25e242c4-22e2-4d00-a6e1-d326a03a4e75",
   "metadata": {},
   "outputs": [],
   "source": [
    "# Compute train and test predictions for increasing polynomial degree\n",
    "y_train_pred, y_test_pred = train_test_pred_poly(\n",
    "    X_train, X_test, y_train, y_test, 10, LinearRegression())\n",
    "    \n",
    "# Plot MSE trends\n",
    "plot_train_test_poly_mse(X_train, X_test, y_train, y_test, y_train_pred,\n",
    "                         y_test_pred)"
   ]
  },
  {
   "cell_type": "markdown",
   "id": "a79bac91-e50e-4ca1-852e-a8387e94f2d6",
   "metadata": {},
   "source": [
    "## Regularized regression"
   ]
  },
  {
   "cell_type": "code",
   "execution_count": null,
   "id": "c121ea55-feaf-4a05-9b2a-8842785bddaf",
   "metadata": {},
   "outputs": [],
   "source": [
    "# Compute train and test predictions for increasing polynomial degree for Ridge\n",
    "y_train_pred, y_test_pred = train_test_pred_poly(\n",
    "    X_train, X_test, y_train, y_test, 10, Ridge(alpha=0.5))\n",
    "\n",
    "# Plot MSE trends\n",
    "plot_train_test_poly_mse(X_train, X_test, y_train, y_test, y_train_pred,\n",
    "                         y_test_pred)"
   ]
  },
  {
   "cell_type": "code",
   "execution_count": null,
   "id": "90ddfab3-1dd5-4608-a5a0-17df3f41d3e7",
   "metadata": {},
   "outputs": [],
   "source": []
  }
 ],
 "metadata": {
  "kernelspec": {
   "display_name": "Python 3 (ipykernel)",
   "language": "python",
   "name": "python3"
  },
  "language_info": {
   "codemirror_mode": {
    "name": "ipython",
    "version": 3
   },
   "file_extension": ".py",
   "mimetype": "text/x-python",
   "name": "python",
   "nbconvert_exporter": "python",
   "pygments_lexer": "ipython3",
   "version": "3.8.10"
  }
 },
 "nbformat": 4,
 "nbformat_minor": 5
}
